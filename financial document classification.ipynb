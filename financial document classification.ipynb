{
 "cells": [
  {
   "cell_type": "code",
   "execution_count": 1,
   "metadata": {},
   "outputs": [],
   "source": [
    "import pandas as pd\n",
    "import numpy as np"
   ]
  },
  {
   "cell_type": "code",
   "execution_count": 2,
   "metadata": {},
   "outputs": [
    {
     "name": "stderr",
     "output_type": "stream",
     "text": [
      "C:\\Users\\Sarath S Pillai\\.conda\\envs\\tfEnv\\lib\\site-packages\\IPython\\core\\interactiveshell.py:3072: DtypeWarning: Columns (5,11) have mixed types.Specify dtype option on import or set low_memory=False.\n",
      "  interactivity=interactivity, compiler=compiler, result=result)\n"
     ]
    }
   ],
   "source": [
    "train_raw = pd.read_csv(r\"C:\\Users\\Sarath S Pillai\\BERT Learning\\consumer_complaints.csv\")"
   ]
  },
  {
   "cell_type": "code",
   "execution_count": 3,
   "metadata": {},
   "outputs": [
    {
     "data": {
      "text/html": [
       "<div>\n",
       "<style scoped>\n",
       "    .dataframe tbody tr th:only-of-type {\n",
       "        vertical-align: middle;\n",
       "    }\n",
       "\n",
       "    .dataframe tbody tr th {\n",
       "        vertical-align: top;\n",
       "    }\n",
       "\n",
       "    .dataframe thead th {\n",
       "        text-align: right;\n",
       "    }\n",
       "</style>\n",
       "<table border=\"1\" class=\"dataframe\">\n",
       "  <thead>\n",
       "    <tr style=\"text-align: right;\">\n",
       "      <th></th>\n",
       "      <th>date_received</th>\n",
       "      <th>product</th>\n",
       "      <th>sub_product</th>\n",
       "      <th>issue</th>\n",
       "      <th>sub_issue</th>\n",
       "      <th>consumer_complaint_narrative</th>\n",
       "      <th>company_public_response</th>\n",
       "      <th>company</th>\n",
       "      <th>state</th>\n",
       "      <th>zipcode</th>\n",
       "      <th>tags</th>\n",
       "      <th>consumer_consent_provided</th>\n",
       "      <th>submitted_via</th>\n",
       "      <th>date_sent_to_company</th>\n",
       "      <th>company_response_to_consumer</th>\n",
       "      <th>timely_response</th>\n",
       "      <th>consumer_disputed?</th>\n",
       "      <th>complaint_id</th>\n",
       "    </tr>\n",
       "  </thead>\n",
       "  <tbody>\n",
       "    <tr>\n",
       "      <th>0</th>\n",
       "      <td>08/30/2013</td>\n",
       "      <td>Mortgage</td>\n",
       "      <td>Other mortgage</td>\n",
       "      <td>Loan modification,collection,foreclosure</td>\n",
       "      <td>NaN</td>\n",
       "      <td>NaN</td>\n",
       "      <td>NaN</td>\n",
       "      <td>U.S. Bancorp</td>\n",
       "      <td>CA</td>\n",
       "      <td>95993</td>\n",
       "      <td>NaN</td>\n",
       "      <td>NaN</td>\n",
       "      <td>Referral</td>\n",
       "      <td>09/03/2013</td>\n",
       "      <td>Closed with explanation</td>\n",
       "      <td>Yes</td>\n",
       "      <td>Yes</td>\n",
       "      <td>511074</td>\n",
       "    </tr>\n",
       "    <tr>\n",
       "      <th>1</th>\n",
       "      <td>08/30/2013</td>\n",
       "      <td>Mortgage</td>\n",
       "      <td>Other mortgage</td>\n",
       "      <td>Loan servicing, payments, escrow account</td>\n",
       "      <td>NaN</td>\n",
       "      <td>NaN</td>\n",
       "      <td>NaN</td>\n",
       "      <td>Wells Fargo &amp; Company</td>\n",
       "      <td>CA</td>\n",
       "      <td>91104</td>\n",
       "      <td>NaN</td>\n",
       "      <td>NaN</td>\n",
       "      <td>Referral</td>\n",
       "      <td>09/03/2013</td>\n",
       "      <td>Closed with explanation</td>\n",
       "      <td>Yes</td>\n",
       "      <td>Yes</td>\n",
       "      <td>511080</td>\n",
       "    </tr>\n",
       "    <tr>\n",
       "      <th>2</th>\n",
       "      <td>08/30/2013</td>\n",
       "      <td>Credit reporting</td>\n",
       "      <td>NaN</td>\n",
       "      <td>Incorrect information on credit report</td>\n",
       "      <td>Account status</td>\n",
       "      <td>NaN</td>\n",
       "      <td>NaN</td>\n",
       "      <td>Wells Fargo &amp; Company</td>\n",
       "      <td>NY</td>\n",
       "      <td>11764</td>\n",
       "      <td>NaN</td>\n",
       "      <td>NaN</td>\n",
       "      <td>Postal mail</td>\n",
       "      <td>09/18/2013</td>\n",
       "      <td>Closed with explanation</td>\n",
       "      <td>Yes</td>\n",
       "      <td>No</td>\n",
       "      <td>510473</td>\n",
       "    </tr>\n",
       "    <tr>\n",
       "      <th>3</th>\n",
       "      <td>08/30/2013</td>\n",
       "      <td>Student loan</td>\n",
       "      <td>Non-federal student loan</td>\n",
       "      <td>Repaying your loan</td>\n",
       "      <td>Repaying your loan</td>\n",
       "      <td>NaN</td>\n",
       "      <td>NaN</td>\n",
       "      <td>Navient Solutions, Inc.</td>\n",
       "      <td>MD</td>\n",
       "      <td>21402</td>\n",
       "      <td>NaN</td>\n",
       "      <td>NaN</td>\n",
       "      <td>Email</td>\n",
       "      <td>08/30/2013</td>\n",
       "      <td>Closed with explanation</td>\n",
       "      <td>Yes</td>\n",
       "      <td>Yes</td>\n",
       "      <td>510326</td>\n",
       "    </tr>\n",
       "    <tr>\n",
       "      <th>4</th>\n",
       "      <td>08/30/2013</td>\n",
       "      <td>Debt collection</td>\n",
       "      <td>Credit card</td>\n",
       "      <td>False statements or representation</td>\n",
       "      <td>Attempted to collect wrong amount</td>\n",
       "      <td>NaN</td>\n",
       "      <td>NaN</td>\n",
       "      <td>Resurgent Capital Services L.P.</td>\n",
       "      <td>GA</td>\n",
       "      <td>30106</td>\n",
       "      <td>NaN</td>\n",
       "      <td>NaN</td>\n",
       "      <td>Web</td>\n",
       "      <td>08/30/2013</td>\n",
       "      <td>Closed with explanation</td>\n",
       "      <td>Yes</td>\n",
       "      <td>Yes</td>\n",
       "      <td>511067</td>\n",
       "    </tr>\n",
       "  </tbody>\n",
       "</table>\n",
       "</div>"
      ],
      "text/plain": [
       "  date_received           product               sub_product  \\\n",
       "0    08/30/2013          Mortgage            Other mortgage   \n",
       "1    08/30/2013          Mortgage            Other mortgage   \n",
       "2    08/30/2013  Credit reporting                       NaN   \n",
       "3    08/30/2013      Student loan  Non-federal student loan   \n",
       "4    08/30/2013   Debt collection               Credit card   \n",
       "\n",
       "                                      issue  \\\n",
       "0  Loan modification,collection,foreclosure   \n",
       "1  Loan servicing, payments, escrow account   \n",
       "2    Incorrect information on credit report   \n",
       "3                        Repaying your loan   \n",
       "4        False statements or representation   \n",
       "\n",
       "                           sub_issue consumer_complaint_narrative  \\\n",
       "0                                NaN                          NaN   \n",
       "1                                NaN                          NaN   \n",
       "2                     Account status                          NaN   \n",
       "3                 Repaying your loan                          NaN   \n",
       "4  Attempted to collect wrong amount                          NaN   \n",
       "\n",
       "  company_public_response                          company state zipcode tags  \\\n",
       "0                     NaN                     U.S. Bancorp    CA   95993  NaN   \n",
       "1                     NaN            Wells Fargo & Company    CA   91104  NaN   \n",
       "2                     NaN            Wells Fargo & Company    NY   11764  NaN   \n",
       "3                     NaN          Navient Solutions, Inc.    MD   21402  NaN   \n",
       "4                     NaN  Resurgent Capital Services L.P.    GA   30106  NaN   \n",
       "\n",
       "  consumer_consent_provided submitted_via date_sent_to_company  \\\n",
       "0                       NaN      Referral           09/03/2013   \n",
       "1                       NaN      Referral           09/03/2013   \n",
       "2                       NaN   Postal mail           09/18/2013   \n",
       "3                       NaN         Email           08/30/2013   \n",
       "4                       NaN           Web           08/30/2013   \n",
       "\n",
       "  company_response_to_consumer timely_response consumer_disputed?  \\\n",
       "0      Closed with explanation             Yes                Yes   \n",
       "1      Closed with explanation             Yes                Yes   \n",
       "2      Closed with explanation             Yes                 No   \n",
       "3      Closed with explanation             Yes                Yes   \n",
       "4      Closed with explanation             Yes                Yes   \n",
       "\n",
       "   complaint_id  \n",
       "0        511074  \n",
       "1        511080  \n",
       "2        510473  \n",
       "3        510326  \n",
       "4        511067  "
      ]
     },
     "execution_count": 3,
     "metadata": {},
     "output_type": "execute_result"
    }
   ],
   "source": [
    "train_raw.head()"
   ]
  },
  {
   "cell_type": "code",
   "execution_count": 4,
   "metadata": {},
   "outputs": [
    {
     "data": {
      "text/plain": [
       "(66806, 18)"
      ]
     },
     "execution_count": 4,
     "metadata": {},
     "output_type": "execute_result"
    }
   ],
   "source": [
    "train_raw = train_raw[train_raw.consumer_complaint_narrative.notnull()]\n",
    "train_raw.shape"
   ]
  },
  {
   "cell_type": "code",
   "execution_count": 5,
   "metadata": {},
   "outputs": [],
   "source": [
    "train_raw['split_text'] = train_raw.consumer_complaint_narrative.apply(lambda x : len(x.split()))"
   ]
  },
  {
   "cell_type": "code",
   "execution_count": 6,
   "metadata": {},
   "outputs": [
    {
     "data": {
      "text/plain": [
       "(17142, 19)"
      ]
     },
     "execution_count": 6,
     "metadata": {},
     "output_type": "execute_result"
    }
   ],
   "source": [
    "train_raw = train_raw[train_raw.split_text > 249]\n",
    "train_raw.shape"
   ]
  },
  {
   "cell_type": "code",
   "execution_count": 7,
   "metadata": {},
   "outputs": [
    {
     "data": {
      "text/html": [
       "<div>\n",
       "<style scoped>\n",
       "    .dataframe tbody tr th:only-of-type {\n",
       "        vertical-align: middle;\n",
       "    }\n",
       "\n",
       "    .dataframe tbody tr th {\n",
       "        vertical-align: top;\n",
       "    }\n",
       "\n",
       "    .dataframe thead th {\n",
       "        text-align: right;\n",
       "    }\n",
       "</style>\n",
       "<table border=\"1\" class=\"dataframe\">\n",
       "  <thead>\n",
       "    <tr style=\"text-align: right;\">\n",
       "      <th></th>\n",
       "      <th>consumer_complaint_narrative</th>\n",
       "      <th>product</th>\n",
       "    </tr>\n",
       "  </thead>\n",
       "  <tbody>\n",
       "    <tr>\n",
       "      <th>0</th>\n",
       "      <td>In XX/XX/XXXX my wages that I earned at my job...</td>\n",
       "      <td>Mortgage</td>\n",
       "    </tr>\n",
       "    <tr>\n",
       "      <th>1</th>\n",
       "      <td>XXXX was submitted XX/XX/XXXX. At the time I s...</td>\n",
       "      <td>Mortgage</td>\n",
       "    </tr>\n",
       "    <tr>\n",
       "      <th>2</th>\n",
       "      <td>I spoke to XXXX of green tree representatives ...</td>\n",
       "      <td>Mortgage</td>\n",
       "    </tr>\n",
       "    <tr>\n",
       "      <th>3</th>\n",
       "      <td>i opened XXXX Bank of America credit cards 15-...</td>\n",
       "      <td>Credit card</td>\n",
       "    </tr>\n",
       "    <tr>\n",
       "      <th>4</th>\n",
       "      <td>I applied for a loan with XXXX XXXX and had pu...</td>\n",
       "      <td>Consumer Loan</td>\n",
       "    </tr>\n",
       "  </tbody>\n",
       "</table>\n",
       "</div>"
      ],
      "text/plain": [
       "                        consumer_complaint_narrative        product\n",
       "0  In XX/XX/XXXX my wages that I earned at my job...       Mortgage\n",
       "1  XXXX was submitted XX/XX/XXXX. At the time I s...       Mortgage\n",
       "2  I spoke to XXXX of green tree representatives ...       Mortgage\n",
       "3  i opened XXXX Bank of America credit cards 15-...    Credit card\n",
       "4  I applied for a loan with XXXX XXXX and had pu...  Consumer Loan"
      ]
     },
     "execution_count": 7,
     "metadata": {},
     "output_type": "execute_result"
    }
   ],
   "source": [
    "train_raw = train_raw[['consumer_complaint_narrative','product']]\n",
    "train_raw.reset_index(inplace=True,drop=True)\n",
    "train_raw.head()"
   ]
  },
  {
   "cell_type": "code",
   "execution_count": 8,
   "metadata": {},
   "outputs": [
    {
     "data": {
      "text/plain": [
       "array(['Mortgage', 'Credit card', 'Consumer Loan', 'Debt collection',\n",
       "       'Credit reporting', 'Student loan', 'Bank account or service',\n",
       "       'Money transfers', 'Payday loan', 'Prepaid card',\n",
       "       'Other financial service'], dtype=object)"
      ]
     },
     "execution_count": 8,
     "metadata": {},
     "output_type": "execute_result"
    }
   ],
   "source": [
    "train_raw['product'].unique()"
   ]
  },
  {
   "cell_type": "code",
   "execution_count": 9,
   "metadata": {},
   "outputs": [
    {
     "data": {
      "text/html": [
       "<div>\n",
       "<style scoped>\n",
       "    .dataframe tbody tr th:only-of-type {\n",
       "        vertical-align: middle;\n",
       "    }\n",
       "\n",
       "    .dataframe tbody tr th {\n",
       "        vertical-align: top;\n",
       "    }\n",
       "\n",
       "    .dataframe thead th {\n",
       "        text-align: right;\n",
       "    }\n",
       "</style>\n",
       "<table border=\"1\" class=\"dataframe\">\n",
       "  <thead>\n",
       "    <tr style=\"text-align: right;\">\n",
       "      <th></th>\n",
       "      <th>consumer_complaint_narrative</th>\n",
       "      <th>product</th>\n",
       "    </tr>\n",
       "  </thead>\n",
       "  <tbody>\n",
       "    <tr>\n",
       "      <th>0</th>\n",
       "      <td>In XX/XX/XXXX my wages that I earned at my job...</td>\n",
       "      <td>Mortgage</td>\n",
       "    </tr>\n",
       "    <tr>\n",
       "      <th>1</th>\n",
       "      <td>XXXX was submitted XX/XX/XXXX. At the time I s...</td>\n",
       "      <td>Mortgage</td>\n",
       "    </tr>\n",
       "    <tr>\n",
       "      <th>2</th>\n",
       "      <td>I spoke to XXXX of green tree representatives ...</td>\n",
       "      <td>Mortgage</td>\n",
       "    </tr>\n",
       "    <tr>\n",
       "      <th>3</th>\n",
       "      <td>i opened XXXX Bank of America credit cards 15-...</td>\n",
       "      <td>Credit card or prepaid card</td>\n",
       "    </tr>\n",
       "    <tr>\n",
       "      <th>4</th>\n",
       "      <td>I applied for a loan with XXXX XXXX and had pu...</td>\n",
       "      <td>Consumer Loan</td>\n",
       "    </tr>\n",
       "  </tbody>\n",
       "</table>\n",
       "</div>"
      ],
      "text/plain": [
       "                        consumer_complaint_narrative  \\\n",
       "0  In XX/XX/XXXX my wages that I earned at my job...   \n",
       "1  XXXX was submitted XX/XX/XXXX. At the time I s...   \n",
       "2  I spoke to XXXX of green tree representatives ...   \n",
       "3  i opened XXXX Bank of America credit cards 15-...   \n",
       "4  I applied for a loan with XXXX XXXX and had pu...   \n",
       "\n",
       "                       product  \n",
       "0                     Mortgage  \n",
       "1                     Mortgage  \n",
       "2                     Mortgage  \n",
       "3  Credit card or prepaid card  \n",
       "4                Consumer Loan  "
      ]
     },
     "execution_count": 9,
     "metadata": {},
     "output_type": "execute_result"
    }
   ],
   "source": [
    "train_raw.at[train_raw['product'] == 'Credit reporting', 'product'] = 'Credit reporting, credit repair services, or other personal consumer reports'\n",
    "train_raw.at[train_raw['product'] == 'Credit card', 'product'] = 'Credit card or prepaid card'\n",
    "train_raw.at[train_raw['product'] == 'Payday loan', 'product'] = 'Payday loan, title loan, or personal loan'\n",
    "train_raw.at[train_raw['product'] == 'Virtual currency', 'product'] = 'Money transfer, virtual currency, or money service'\n",
    "train_raw.head()"
   ]
  },
  {
   "cell_type": "code",
   "execution_count": 10,
   "metadata": {},
   "outputs": [
    {
     "data": {
      "text/plain": [
       "array(['Mortgage', 'Credit card or prepaid card', 'Consumer Loan',\n",
       "       'Debt collection',\n",
       "       'Credit reporting, credit repair services, or other personal consumer reports',\n",
       "       'Student loan', 'Bank account or service', 'Money transfers',\n",
       "       'Payday loan, title loan, or personal loan', 'Prepaid card',\n",
       "       'Other financial service'], dtype=object)"
      ]
     },
     "execution_count": 10,
     "metadata": {},
     "output_type": "execute_result"
    }
   ],
   "source": [
    "train_raw['product'].unique()"
   ]
  },
  {
   "cell_type": "code",
   "execution_count": 11,
   "metadata": {},
   "outputs": [],
   "source": [
    "train_raw = train_raw.rename(columns={'consumer_complaint_narrative':'text','product':'label'})"
   ]
  },
  {
   "cell_type": "code",
   "execution_count": 12,
   "metadata": {},
   "outputs": [],
   "source": [
    "from sklearn.preprocessing import LabelEncoder"
   ]
  },
  {
   "cell_type": "code",
   "execution_count": 13,
   "metadata": {},
   "outputs": [
    {
     "data": {
      "text/html": [
       "<div>\n",
       "<style scoped>\n",
       "    .dataframe tbody tr th:only-of-type {\n",
       "        vertical-align: middle;\n",
       "    }\n",
       "\n",
       "    .dataframe tbody tr th {\n",
       "        vertical-align: top;\n",
       "    }\n",
       "\n",
       "    .dataframe thead th {\n",
       "        text-align: right;\n",
       "    }\n",
       "</style>\n",
       "<table border=\"1\" class=\"dataframe\">\n",
       "  <thead>\n",
       "    <tr style=\"text-align: right;\">\n",
       "      <th></th>\n",
       "      <th>text</th>\n",
       "      <th>label</th>\n",
       "    </tr>\n",
       "  </thead>\n",
       "  <tbody>\n",
       "    <tr>\n",
       "      <th>0</th>\n",
       "      <td>In XX/XX/XXXX my wages that I earned at my job...</td>\n",
       "      <td>6</td>\n",
       "    </tr>\n",
       "    <tr>\n",
       "      <th>1</th>\n",
       "      <td>XXXX was submitted XX/XX/XXXX. At the time I s...</td>\n",
       "      <td>6</td>\n",
       "    </tr>\n",
       "    <tr>\n",
       "      <th>2</th>\n",
       "      <td>I spoke to XXXX of green tree representatives ...</td>\n",
       "      <td>6</td>\n",
       "    </tr>\n",
       "    <tr>\n",
       "      <th>3</th>\n",
       "      <td>i opened XXXX Bank of America credit cards 15-...</td>\n",
       "      <td>2</td>\n",
       "    </tr>\n",
       "    <tr>\n",
       "      <th>4</th>\n",
       "      <td>I applied for a loan with XXXX XXXX and had pu...</td>\n",
       "      <td>1</td>\n",
       "    </tr>\n",
       "  </tbody>\n",
       "</table>\n",
       "</div>"
      ],
      "text/plain": [
       "                                                text  label\n",
       "0  In XX/XX/XXXX my wages that I earned at my job...      6\n",
       "1  XXXX was submitted XX/XX/XXXX. At the time I s...      6\n",
       "2  I spoke to XXXX of green tree representatives ...      6\n",
       "3  i opened XXXX Bank of America credit cards 15-...      2\n",
       "4  I applied for a loan with XXXX XXXX and had pu...      1"
      ]
     },
     "execution_count": 13,
     "metadata": {},
     "output_type": "execute_result"
    }
   ],
   "source": [
    "LE = LabelEncoder()\n",
    "train_raw['label'] = LE.fit_transform(train_raw['label'])\n",
    "train_raw.head()"
   ]
  },
  {
   "cell_type": "code",
   "execution_count": 14,
   "metadata": {},
   "outputs": [],
   "source": [
    "import re\n",
    "\n",
    "def clean_text(text):\n",
    "    text = re.sub(r'[^a-zA-z0-9 ]','',text)\n",
    "    return text"
   ]
  },
  {
   "cell_type": "code",
   "execution_count": 15,
   "metadata": {},
   "outputs": [
    {
     "data": {
      "text/html": [
       "<div>\n",
       "<style scoped>\n",
       "    .dataframe tbody tr th:only-of-type {\n",
       "        vertical-align: middle;\n",
       "    }\n",
       "\n",
       "    .dataframe tbody tr th {\n",
       "        vertical-align: top;\n",
       "    }\n",
       "\n",
       "    .dataframe thead th {\n",
       "        text-align: right;\n",
       "    }\n",
       "</style>\n",
       "<table border=\"1\" class=\"dataframe\">\n",
       "  <thead>\n",
       "    <tr style=\"text-align: right;\">\n",
       "      <th></th>\n",
       "      <th>text</th>\n",
       "      <th>label</th>\n",
       "    </tr>\n",
       "  </thead>\n",
       "  <tbody>\n",
       "    <tr>\n",
       "      <th>0</th>\n",
       "      <td>In XXXXXXXX my wages that I earned at my job d...</td>\n",
       "      <td>6</td>\n",
       "    </tr>\n",
       "    <tr>\n",
       "      <th>1</th>\n",
       "      <td>XXXX was submitted XXXXXXXX At the time I subm...</td>\n",
       "      <td>6</td>\n",
       "    </tr>\n",
       "    <tr>\n",
       "      <th>2</th>\n",
       "      <td>I spoke to XXXX of green tree representatives ...</td>\n",
       "      <td>6</td>\n",
       "    </tr>\n",
       "    <tr>\n",
       "      <th>3</th>\n",
       "      <td>i opened XXXX Bank of America credit cards 152...</td>\n",
       "      <td>2</td>\n",
       "    </tr>\n",
       "    <tr>\n",
       "      <th>4</th>\n",
       "      <td>I applied for a loan with XXXX XXXX and had pu...</td>\n",
       "      <td>1</td>\n",
       "    </tr>\n",
       "  </tbody>\n",
       "</table>\n",
       "</div>"
      ],
      "text/plain": [
       "                                                text  label\n",
       "0  In XXXXXXXX my wages that I earned at my job d...      6\n",
       "1  XXXX was submitted XXXXXXXX At the time I subm...      6\n",
       "2  I spoke to XXXX of green tree representatives ...      6\n",
       "3  i opened XXXX Bank of America credit cards 152...      2\n",
       "4  I applied for a loan with XXXX XXXX and had pu...      1"
      ]
     },
     "execution_count": 15,
     "metadata": {},
     "output_type": "execute_result"
    }
   ],
   "source": [
    "train_raw['text'] = train_raw['text'].apply(clean_text)\n",
    "train_raw.head()"
   ]
  },
  {
   "cell_type": "code",
   "execution_count": 16,
   "metadata": {},
   "outputs": [
    {
     "data": {
      "text/plain": [
       "2265.1681834091705"
      ]
     },
     "execution_count": 16,
     "metadata": {},
     "output_type": "execute_result"
    }
   ],
   "source": [
    "sum(sorted([len(i) for i in train_raw['text']])) / len(sorted([len(i) for i in train_raw['text']]))"
   ]
  },
  {
   "cell_type": "code",
   "execution_count": 17,
   "metadata": {},
   "outputs": [
    {
     "data": {
      "text/plain": [
       "17142"
      ]
     },
     "execution_count": 17,
     "metadata": {},
     "output_type": "execute_result"
    }
   ],
   "source": [
    "len(sorted([len(i) for i in train_raw['text']]))"
   ]
  },
  {
   "cell_type": "code",
   "execution_count": null,
   "metadata": {},
   "outputs": [],
   "source": []
  },
  {
   "cell_type": "code",
   "execution_count": 18,
   "metadata": {},
   "outputs": [],
   "source": [
    "def get_split(text1):\n",
    "  l_total = []\n",
    "  l_parcial = []\n",
    "  if len(text1.split())//150 >0:\n",
    "    n = len(text1.split())//150\n",
    "  else: \n",
    "    n = 1\n",
    "  for w in range(n):\n",
    "    if w == 0:\n",
    "      l_parcial = text1.split()[:200]\n",
    "      l_total.append(\" \".join(l_parcial))\n",
    "    else:\n",
    "      l_parcial = text1.split()[w*150:w*150 + 200]\n",
    "      l_total.append(\" \".join(l_parcial))\n",
    "  return l_total"
   ]
  },
  {
   "cell_type": "code",
   "execution_count": 19,
   "metadata": {},
   "outputs": [],
   "source": [
    "train = train_raw.copy()"
   ]
  },
  {
   "cell_type": "code",
   "execution_count": 20,
   "metadata": {},
   "outputs": [
    {
     "data": {
      "text/html": [
       "<div>\n",
       "<style scoped>\n",
       "    .dataframe tbody tr th:only-of-type {\n",
       "        vertical-align: middle;\n",
       "    }\n",
       "\n",
       "    .dataframe tbody tr th {\n",
       "        vertical-align: top;\n",
       "    }\n",
       "\n",
       "    .dataframe thead th {\n",
       "        text-align: right;\n",
       "    }\n",
       "</style>\n",
       "<table border=\"1\" class=\"dataframe\">\n",
       "  <thead>\n",
       "    <tr style=\"text-align: right;\">\n",
       "      <th></th>\n",
       "      <th>text</th>\n",
       "      <th>label</th>\n",
       "    </tr>\n",
       "  </thead>\n",
       "  <tbody>\n",
       "    <tr>\n",
       "      <th>7106</th>\n",
       "      <td>I received notification from USSA regarding an...</td>\n",
       "      <td>1</td>\n",
       "    </tr>\n",
       "    <tr>\n",
       "      <th>605</th>\n",
       "      <td>I am a member with USAA Bank and I have been h...</td>\n",
       "      <td>0</td>\n",
       "    </tr>\n",
       "    <tr>\n",
       "      <th>11914</th>\n",
       "      <td>I was sent a letter XXXX 2015 shortly after ro...</td>\n",
       "      <td>6</td>\n",
       "    </tr>\n",
       "    <tr>\n",
       "      <th>13366</th>\n",
       "      <td>I have been with Carrington Mortgage for quite...</td>\n",
       "      <td>6</td>\n",
       "    </tr>\n",
       "    <tr>\n",
       "      <th>2594</th>\n",
       "      <td>On XXXXXXXX I received a XXXX notice from the ...</td>\n",
       "      <td>6</td>\n",
       "    </tr>\n",
       "  </tbody>\n",
       "</table>\n",
       "</div>"
      ],
      "text/plain": [
       "                                                    text  label\n",
       "7106   I received notification from USSA regarding an...      1\n",
       "605    I am a member with USAA Bank and I have been h...      0\n",
       "11914  I was sent a letter XXXX 2015 shortly after ro...      6\n",
       "13366  I have been with Carrington Mortgage for quite...      6\n",
       "2594   On XXXXXXXX I received a XXXX notice from the ...      6"
      ]
     },
     "execution_count": 20,
     "metadata": {},
     "output_type": "execute_result"
    }
   ],
   "source": [
    "train = train.reindex(np.random.permutation(train.index))\n",
    "train.head()"
   ]
  },
  {
   "cell_type": "code",
   "execution_count": 21,
   "metadata": {},
   "outputs": [
    {
     "data": {
      "text/html": [
       "<div>\n",
       "<style scoped>\n",
       "    .dataframe tbody tr th:only-of-type {\n",
       "        vertical-align: middle;\n",
       "    }\n",
       "\n",
       "    .dataframe tbody tr th {\n",
       "        vertical-align: top;\n",
       "    }\n",
       "\n",
       "    .dataframe thead th {\n",
       "        text-align: right;\n",
       "    }\n",
       "</style>\n",
       "<table border=\"1\" class=\"dataframe\">\n",
       "  <thead>\n",
       "    <tr style=\"text-align: right;\">\n",
       "      <th></th>\n",
       "      <th>text</th>\n",
       "      <th>label</th>\n",
       "    </tr>\n",
       "  </thead>\n",
       "  <tbody>\n",
       "    <tr>\n",
       "      <th>7980</th>\n",
       "      <td>On XXXX XXXX 2015 I applied for a checking acc...</td>\n",
       "      <td>0</td>\n",
       "    </tr>\n",
       "    <tr>\n",
       "      <th>9781</th>\n",
       "      <td>I am contacting the CFPB as I am stunned and s...</td>\n",
       "      <td>6</td>\n",
       "    </tr>\n",
       "    <tr>\n",
       "      <th>10200</th>\n",
       "      <td>My parents received a phone call today from so...</td>\n",
       "      <td>4</td>\n",
       "    </tr>\n",
       "    <tr>\n",
       "      <th>12112</th>\n",
       "      <td>Wells Fargo XXXX and XXXX XXXX continue to tak...</td>\n",
       "      <td>6</td>\n",
       "    </tr>\n",
       "    <tr>\n",
       "      <th>2634</th>\n",
       "      <td>My mortgage is currently owned by Green Tree L...</td>\n",
       "      <td>6</td>\n",
       "    </tr>\n",
       "  </tbody>\n",
       "</table>\n",
       "</div>"
      ],
      "text/plain": [
       "                                                    text  label\n",
       "7980   On XXXX XXXX 2015 I applied for a checking acc...      0\n",
       "9781   I am contacting the CFPB as I am stunned and s...      6\n",
       "10200  My parents received a phone call today from so...      4\n",
       "12112  Wells Fargo XXXX and XXXX XXXX continue to tak...      6\n",
       "2634   My mortgage is currently owned by Green Tree L...      6"
      ]
     },
     "execution_count": 21,
     "metadata": {},
     "output_type": "execute_result"
    }
   ],
   "source": [
    "from sklearn.model_selection import train_test_split\n",
    "train, val = train_test_split(train, test_size=0.2, random_state=35)\n",
    "train.head()"
   ]
  },
  {
   "cell_type": "code",
   "execution_count": 22,
   "metadata": {},
   "outputs": [
    {
     "data": {
      "text/html": [
       "<div>\n",
       "<style scoped>\n",
       "    .dataframe tbody tr th:only-of-type {\n",
       "        vertical-align: middle;\n",
       "    }\n",
       "\n",
       "    .dataframe tbody tr th {\n",
       "        vertical-align: top;\n",
       "    }\n",
       "\n",
       "    .dataframe thead th {\n",
       "        text-align: right;\n",
       "    }\n",
       "</style>\n",
       "<table border=\"1\" class=\"dataframe\">\n",
       "  <thead>\n",
       "    <tr style=\"text-align: right;\">\n",
       "      <th></th>\n",
       "      <th>text</th>\n",
       "      <th>label</th>\n",
       "    </tr>\n",
       "  </thead>\n",
       "  <tbody>\n",
       "    <tr>\n",
       "      <th>0</th>\n",
       "      <td>On XXXX XXXX 2015 I applied for a checking acc...</td>\n",
       "      <td>0</td>\n",
       "    </tr>\n",
       "    <tr>\n",
       "      <th>1</th>\n",
       "      <td>I am contacting the CFPB as I am stunned and s...</td>\n",
       "      <td>6</td>\n",
       "    </tr>\n",
       "  </tbody>\n",
       "</table>\n",
       "</div>"
      ],
      "text/plain": [
       "                                                text  label\n",
       "0  On XXXX XXXX 2015 I applied for a checking acc...      0\n",
       "1  I am contacting the CFPB as I am stunned and s...      6"
      ]
     },
     "execution_count": 22,
     "metadata": {},
     "output_type": "execute_result"
    }
   ],
   "source": [
    "train.reset_index(drop=True, inplace=True)\n",
    "train.head(2)"
   ]
  },
  {
   "cell_type": "code",
   "execution_count": 23,
   "metadata": {},
   "outputs": [
    {
     "data": {
      "text/html": [
       "<div>\n",
       "<style scoped>\n",
       "    .dataframe tbody tr th:only-of-type {\n",
       "        vertical-align: middle;\n",
       "    }\n",
       "\n",
       "    .dataframe tbody tr th {\n",
       "        vertical-align: top;\n",
       "    }\n",
       "\n",
       "    .dataframe thead th {\n",
       "        text-align: right;\n",
       "    }\n",
       "</style>\n",
       "<table border=\"1\" class=\"dataframe\">\n",
       "  <thead>\n",
       "    <tr style=\"text-align: right;\">\n",
       "      <th></th>\n",
       "      <th>text</th>\n",
       "      <th>label</th>\n",
       "    </tr>\n",
       "  </thead>\n",
       "  <tbody>\n",
       "    <tr>\n",
       "      <th>0</th>\n",
       "      <td>Working with Titan Title in XXXX during the cl...</td>\n",
       "      <td>6</td>\n",
       "    </tr>\n",
       "    <tr>\n",
       "      <th>1</th>\n",
       "      <td>To whom it May Concern I XXXX XXXX hereby decl...</td>\n",
       "      <td>0</td>\n",
       "    </tr>\n",
       "  </tbody>\n",
       "</table>\n",
       "</div>"
      ],
      "text/plain": [
       "                                                text  label\n",
       "0  Working with Titan Title in XXXX during the cl...      6\n",
       "1  To whom it May Concern I XXXX XXXX hereby decl...      0"
      ]
     },
     "execution_count": 23,
     "metadata": {},
     "output_type": "execute_result"
    }
   ],
   "source": [
    "val.reset_index(drop=True, inplace=True)\n",
    "val.head(2)"
   ]
  },
  {
   "cell_type": "code",
   "execution_count": 24,
   "metadata": {},
   "outputs": [
    {
     "data": {
      "text/plain": [
       "((3429, 2), (13713, 2))"
      ]
     },
     "execution_count": 24,
     "metadata": {},
     "output_type": "execute_result"
    }
   ],
   "source": [
    "val.shape, train.shape"
   ]
  },
  {
   "cell_type": "code",
   "execution_count": 25,
   "metadata": {},
   "outputs": [],
   "source": [
    "#Installing BERT module\n",
    "!pip install bert-tensorflow"
   ]
  },
  {
   "cell_type": "code",
   "execution_count": null,
   "metadata": {},
   "outputs": [],
   "source": []
  },
  {
   "cell_type": "code",
   "execution_count": 26,
   "metadata": {},
   "outputs": [
    {
     "name": "stderr",
     "output_type": "stream",
     "text": [
      "Using TensorFlow backend.\n"
     ]
    }
   ],
   "source": [
    "import pandas as pd\n",
    "import numpy as np\n",
    "np.random.seed(1337)\n",
    "from keras import Sequential\n",
    "from keras.utils import Sequence\n",
    "from keras.layers import LSTM, Dense, Masking\n",
    "import numpy as np\n",
    "import keras\n",
    "from keras.utils import np_utils\n",
    "from keras import optimizers\n",
    "from keras.models import Sequential, Model\n",
    "from keras.layers import Embedding, Dense, Input, concatenate, Layer, Lambda, Dropout, Activation\n",
    "import datetime\n",
    "from datetime import datetime\n",
    "from keras.callbacks import ModelCheckpoint, EarlyStopping, Callback, TensorBoard\n",
    "import tensorflow as tf\n",
    "import tensorflow_hub as hub"
   ]
  },
  {
   "cell_type": "code",
   "execution_count": 27,
   "metadata": {},
   "outputs": [
    {
     "name": "stdout",
     "output_type": "stream",
     "text": [
      "WARNING:tensorflow:From C:\\Users\\Sarath S Pillai\\.conda\\envs\\tfEnv\\lib\\site-packages\\bert\\optimization.py:87: The name tf.train.Optimizer is deprecated. Please use tf.compat.v1.train.Optimizer instead.\n",
      "\n"
     ]
    }
   ],
   "source": [
    "import bert\n",
    "from bert import run_classifier\n",
    "from bert import optimization\n",
    "from bert import tokenization"
   ]
  },
  {
   "cell_type": "markdown",
   "metadata": {},
   "source": [
    "We'll need to transform our data into a format BERT understands. This involves two steps. First, we create InputExample's using the constructor provided in the BERT library.\n",
    "\n",
    "text_a is the text we want to classify, which in this case, is the Request field in our Dataframe.\n",
    "text_b is used if we're training a model to understand the relationship between sentences (i.e. is text_b a translation of text_a? Is text_b an answer to the question asked by text_a?). This doesn't apply to our task, so we can leave text_b blank.\n",
    "label is the label for our example, i.e. True, False"
   ]
  },
  {
   "cell_type": "code",
   "execution_count": 28,
   "metadata": {},
   "outputs": [],
   "source": [
    "DATA_COLUMN = 'text'\n",
    "LABEL_COLUMN = 'label'"
   ]
  },
  {
   "cell_type": "code",
   "execution_count": 29,
   "metadata": {},
   "outputs": [],
   "source": [
    "# Use the InputExample class from BERT's run_classifier code to create examples from the data\n",
    "# guid : Globally unique ID for bookkeeping, unused in this example\n",
    "train_InputExamples = train.apply(lambda x: bert.run_classifier.InputExample(guid=None,\n",
    "                                                                   text_a = x[DATA_COLUMN], \n",
    "                                                                   text_b = None, \n",
    "                                                                   label = x[LABEL_COLUMN]), axis = 1)\n",
    "\n",
    "val_InputExamples  = val.apply(lambda x: bert.run_classifier.InputExample(guid=None, \n",
    "                                                                   text_a = x[DATA_COLUMN], \n",
    "                                                                   text_b = None, \n",
    "                                                                   label = x[LABEL_COLUMN]), axis = 1)"
   ]
  },
  {
   "cell_type": "code",
   "execution_count": 30,
   "metadata": {},
   "outputs": [],
   "source": [
    "label_list = list(set(train_raw['label']))"
   ]
  },
  {
   "cell_type": "markdown",
   "metadata": {},
   "source": [
    "\n",
    "Next, we need to preprocess our data so that it matches the data BERT was trained on. For this, we'll need to do a couple of things (but don't worry--this is also included in the Python library):\n",
    "\n",
    "Lowercase our text (if we're using a BERT lowercase model)\n",
    "Tokenize it (i.e. \"sally says hi\" -> [\"sally\", \"says\", \"hi\"])\n",
    "Break words into WordPieces (i.e. \"calling\" -> [\"call\", \"##ing\"])\n",
    "Map our words to indexes using a vocab file that BERT provides\n",
    "Add special \"CLS\" and \"SEP\" tokens (see the readme)\n",
    "Append \"index\" and \"segment\" tokens to each input (see the BERT paper)\n",
    "Happily, we don't have to worry about most of these details.\n",
    "\n",
    "To start, we'll need to load a vocabulary file and lowercasing information directly from the BERT tf hub module"
   ]
  },
  {
   "cell_type": "code",
   "execution_count": 31,
   "metadata": {},
   "outputs": [
    {
     "name": "stdout",
     "output_type": "stream",
     "text": [
      "INFO:tensorflow:Saver not created because there are no variables in the graph to restore\n"
     ]
    },
    {
     "name": "stderr",
     "output_type": "stream",
     "text": [
      "INFO:tensorflow:Saver not created because there are no variables in the graph to restore\n"
     ]
    },
    {
     "name": "stdout",
     "output_type": "stream",
     "text": [
      "WARNING:tensorflow:From C:\\Users\\Sarath S Pillai\\.conda\\envs\\tfEnv\\lib\\site-packages\\bert\\tokenization.py:125: The name tf.gfile.GFile is deprecated. Please use tf.io.gfile.GFile instead.\n",
      "\n"
     ]
    },
    {
     "name": "stderr",
     "output_type": "stream",
     "text": [
      "WARNING:tensorflow:From C:\\Users\\Sarath S Pillai\\.conda\\envs\\tfEnv\\lib\\site-packages\\bert\\tokenization.py:125: The name tf.gfile.GFile is deprecated. Please use tf.io.gfile.GFile instead.\n",
      "\n"
     ]
    }
   ],
   "source": [
    "# This is a path to an uncased (all lowercase) version of BERT\n",
    "BERT_MODEL_HUB = \"https://tfhub.dev/google/bert_uncased_L-12_H-768_A-12/1\"\n",
    "\n",
    "def create_tokenizer_from_hub_module():\n",
    "  \"\"\"Get the vocab file and casing info from the Hub module.\"\"\"\n",
    "  with tf.Graph().as_default():\n",
    "    bert_module = hub.Module(BERT_MODEL_HUB)\n",
    "    tokenization_info = bert_module(signature=\"tokenization_info\", as_dict=True)\n",
    "    with tf.Session() as sess:\n",
    "      vocab_file, do_lower_case = sess.run([tokenization_info[\"vocab_file\"],\n",
    "                                            tokenization_info[\"do_lower_case\"]])\n",
    "      \n",
    "  return bert.tokenization.FullTokenizer(\n",
    "      vocab_file=vocab_file, do_lower_case=do_lower_case)\n",
    "\n",
    "tokenizer = create_tokenizer_from_hub_module()"
   ]
  },
  {
   "cell_type": "code",
   "execution_count": 32,
   "metadata": {},
   "outputs": [
    {
     "data": {
      "text/plain": [
       "['this',\n",
       " 'here',\n",
       " \"'\",\n",
       " 's',\n",
       " 'an',\n",
       " 'example',\n",
       " 'of',\n",
       " 'using',\n",
       " 'the',\n",
       " 'bert',\n",
       " 'token',\n",
       " '##izer']"
      ]
     },
     "execution_count": 32,
     "metadata": {},
     "output_type": "execute_result"
    }
   ],
   "source": [
    "tokenizer.tokenize(\"This here's an example of using the BERT tokenizer\")"
   ]
  },
  {
   "cell_type": "code",
   "execution_count": 33,
   "metadata": {},
   "outputs": [
    {
     "name": "stdout",
     "output_type": "stream",
     "text": [
      "WARNING:tensorflow:From C:\\Users\\Sarath S Pillai\\.conda\\envs\\tfEnv\\lib\\site-packages\\bert\\run_classifier.py:774: The name tf.logging.info is deprecated. Please use tf.compat.v1.logging.info instead.\n",
      "\n"
     ]
    },
    {
     "name": "stderr",
     "output_type": "stream",
     "text": [
      "WARNING:tensorflow:From C:\\Users\\Sarath S Pillai\\.conda\\envs\\tfEnv\\lib\\site-packages\\bert\\run_classifier.py:774: The name tf.logging.info is deprecated. Please use tf.compat.v1.logging.info instead.\n",
      "\n"
     ]
    },
    {
     "name": "stdout",
     "output_type": "stream",
     "text": [
      "INFO:tensorflow:Writing example 0 of 13713\n"
     ]
    },
    {
     "name": "stderr",
     "output_type": "stream",
     "text": [
      "INFO:tensorflow:Writing example 0 of 13713\n"
     ]
    },
    {
     "name": "stdout",
     "output_type": "stream",
     "text": [
      "INFO:tensorflow:*** Example ***\n"
     ]
    },
    {
     "name": "stderr",
     "output_type": "stream",
     "text": [
      "INFO:tensorflow:*** Example ***\n"
     ]
    },
    {
     "name": "stdout",
     "output_type": "stream",
     "text": [
      "INFO:tensorflow:guid: None\n"
     ]
    },
    {
     "name": "stderr",
     "output_type": "stream",
     "text": [
      "INFO:tensorflow:guid: None\n"
     ]
    },
    {
     "name": "stdout",
     "output_type": "stream",
     "text": [
      "INFO:tensorflow:tokens: [CLS] on xx ##xx xx ##xx 2015 i applied for a checking account with ci ##ti ##bank online not sure if i did it right so i applied again on the phone and again on the xx ##xx online on xx ##xx xx ##xx 2015 i received several letters from ci ##ti ##bank xx ##xx of which contained a bank card in each great i had the account i went to a ci ##ti ##bank atm and deposited 2000 which is still in the account at the time this complaint is being filed i tried to use my bank card and it was declined twice once i got home i called customer service who told me there was a restriction on the account and i needed to call new account services i was also informed that i had xx ##xx accounts i told them i only wanted xx ##xx and gave them the account number of the one in which to keep the one with the 2000 so just to be exact i am writing this complaint pertaining to the account ending in xx ##xx on monday xx ##xx xx ##xx 2015 i called new account services where i [SEP]\n"
     ]
    },
    {
     "name": "stderr",
     "output_type": "stream",
     "text": [
      "INFO:tensorflow:tokens: [CLS] on xx ##xx xx ##xx 2015 i applied for a checking account with ci ##ti ##bank online not sure if i did it right so i applied again on the phone and again on the xx ##xx online on xx ##xx xx ##xx 2015 i received several letters from ci ##ti ##bank xx ##xx of which contained a bank card in each great i had the account i went to a ci ##ti ##bank atm and deposited 2000 which is still in the account at the time this complaint is being filed i tried to use my bank card and it was declined twice once i got home i called customer service who told me there was a restriction on the account and i needed to call new account services i was also informed that i had xx ##xx accounts i told them i only wanted xx ##xx and gave them the account number of the one in which to keep the one with the 2000 so just to be exact i am writing this complaint pertaining to the account ending in xx ##xx on monday xx ##xx xx ##xx 2015 i called new account services where i [SEP]\n"
     ]
    },
    {
     "name": "stdout",
     "output_type": "stream",
     "text": [
      "INFO:tensorflow:input_ids: 101 2006 22038 20348 22038 20348 2325 1045 4162 2005 1037 9361 4070 2007 25022 3775 9299 3784 2025 2469 2065 1045 2106 2009 2157 2061 1045 4162 2153 2006 1996 3042 1998 2153 2006 1996 22038 20348 3784 2006 22038 20348 22038 20348 2325 1045 2363 2195 4144 2013 25022 3775 9299 22038 20348 1997 2029 4838 1037 2924 4003 1999 2169 2307 1045 2018 1996 4070 1045 2253 2000 1037 25022 3775 9299 27218 1998 14140 2456 2029 2003 2145 1999 1996 4070 2012 1996 2051 2023 12087 2003 2108 6406 1045 2699 2000 2224 2026 2924 4003 1998 2009 2001 6430 3807 2320 1045 2288 2188 1045 2170 8013 2326 2040 2409 2033 2045 2001 1037 16840 2006 1996 4070 1998 1045 2734 2000 2655 2047 4070 2578 1045 2001 2036 6727 2008 1045 2018 22038 20348 6115 1045 2409 2068 1045 2069 2359 22038 20348 1998 2435 2068 1996 4070 2193 1997 1996 2028 1999 2029 2000 2562 1996 2028 2007 1996 2456 2061 2074 2000 2022 6635 1045 2572 3015 2023 12087 20246 2000 1996 4070 4566 1999 22038 20348 2006 6928 22038 20348 22038 20348 2325 1045 2170 2047 4070 2578 2073 1045 102\n"
     ]
    },
    {
     "name": "stderr",
     "output_type": "stream",
     "text": [
      "INFO:tensorflow:input_ids: 101 2006 22038 20348 22038 20348 2325 1045 4162 2005 1037 9361 4070 2007 25022 3775 9299 3784 2025 2469 2065 1045 2106 2009 2157 2061 1045 4162 2153 2006 1996 3042 1998 2153 2006 1996 22038 20348 3784 2006 22038 20348 22038 20348 2325 1045 2363 2195 4144 2013 25022 3775 9299 22038 20348 1997 2029 4838 1037 2924 4003 1999 2169 2307 1045 2018 1996 4070 1045 2253 2000 1037 25022 3775 9299 27218 1998 14140 2456 2029 2003 2145 1999 1996 4070 2012 1996 2051 2023 12087 2003 2108 6406 1045 2699 2000 2224 2026 2924 4003 1998 2009 2001 6430 3807 2320 1045 2288 2188 1045 2170 8013 2326 2040 2409 2033 2045 2001 1037 16840 2006 1996 4070 1998 1045 2734 2000 2655 2047 4070 2578 1045 2001 2036 6727 2008 1045 2018 22038 20348 6115 1045 2409 2068 1045 2069 2359 22038 20348 1998 2435 2068 1996 4070 2193 1997 1996 2028 1999 2029 2000 2562 1996 2028 2007 1996 2456 2061 2074 2000 2022 6635 1045 2572 3015 2023 12087 20246 2000 1996 4070 4566 1999 22038 20348 2006 6928 22038 20348 22038 20348 2325 1045 2170 2047 4070 2578 2073 1045 102\n"
     ]
    },
    {
     "name": "stdout",
     "output_type": "stream",
     "text": [
      "INFO:tensorflow:input_mask: 1 1 1 1 1 1 1 1 1 1 1 1 1 1 1 1 1 1 1 1 1 1 1 1 1 1 1 1 1 1 1 1 1 1 1 1 1 1 1 1 1 1 1 1 1 1 1 1 1 1 1 1 1 1 1 1 1 1 1 1 1 1 1 1 1 1 1 1 1 1 1 1 1 1 1 1 1 1 1 1 1 1 1 1 1 1 1 1 1 1 1 1 1 1 1 1 1 1 1 1 1 1 1 1 1 1 1 1 1 1 1 1 1 1 1 1 1 1 1 1 1 1 1 1 1 1 1 1 1 1 1 1 1 1 1 1 1 1 1 1 1 1 1 1 1 1 1 1 1 1 1 1 1 1 1 1 1 1 1 1 1 1 1 1 1 1 1 1 1 1 1 1 1 1 1 1 1 1 1 1 1 1 1 1 1 1 1 1 1 1 1 1 1 1 1 1 1 1 1 1\n"
     ]
    },
    {
     "name": "stderr",
     "output_type": "stream",
     "text": [
      "INFO:tensorflow:input_mask: 1 1 1 1 1 1 1 1 1 1 1 1 1 1 1 1 1 1 1 1 1 1 1 1 1 1 1 1 1 1 1 1 1 1 1 1 1 1 1 1 1 1 1 1 1 1 1 1 1 1 1 1 1 1 1 1 1 1 1 1 1 1 1 1 1 1 1 1 1 1 1 1 1 1 1 1 1 1 1 1 1 1 1 1 1 1 1 1 1 1 1 1 1 1 1 1 1 1 1 1 1 1 1 1 1 1 1 1 1 1 1 1 1 1 1 1 1 1 1 1 1 1 1 1 1 1 1 1 1 1 1 1 1 1 1 1 1 1 1 1 1 1 1 1 1 1 1 1 1 1 1 1 1 1 1 1 1 1 1 1 1 1 1 1 1 1 1 1 1 1 1 1 1 1 1 1 1 1 1 1 1 1 1 1 1 1 1 1 1 1 1 1 1 1 1 1 1 1 1 1\n"
     ]
    },
    {
     "name": "stdout",
     "output_type": "stream",
     "text": [
      "INFO:tensorflow:segment_ids: 0 0 0 0 0 0 0 0 0 0 0 0 0 0 0 0 0 0 0 0 0 0 0 0 0 0 0 0 0 0 0 0 0 0 0 0 0 0 0 0 0 0 0 0 0 0 0 0 0 0 0 0 0 0 0 0 0 0 0 0 0 0 0 0 0 0 0 0 0 0 0 0 0 0 0 0 0 0 0 0 0 0 0 0 0 0 0 0 0 0 0 0 0 0 0 0 0 0 0 0 0 0 0 0 0 0 0 0 0 0 0 0 0 0 0 0 0 0 0 0 0 0 0 0 0 0 0 0 0 0 0 0 0 0 0 0 0 0 0 0 0 0 0 0 0 0 0 0 0 0 0 0 0 0 0 0 0 0 0 0 0 0 0 0 0 0 0 0 0 0 0 0 0 0 0 0 0 0 0 0 0 0 0 0 0 0 0 0 0 0 0 0 0 0 0 0 0 0 0 0\n"
     ]
    },
    {
     "name": "stderr",
     "output_type": "stream",
     "text": [
      "INFO:tensorflow:segment_ids: 0 0 0 0 0 0 0 0 0 0 0 0 0 0 0 0 0 0 0 0 0 0 0 0 0 0 0 0 0 0 0 0 0 0 0 0 0 0 0 0 0 0 0 0 0 0 0 0 0 0 0 0 0 0 0 0 0 0 0 0 0 0 0 0 0 0 0 0 0 0 0 0 0 0 0 0 0 0 0 0 0 0 0 0 0 0 0 0 0 0 0 0 0 0 0 0 0 0 0 0 0 0 0 0 0 0 0 0 0 0 0 0 0 0 0 0 0 0 0 0 0 0 0 0 0 0 0 0 0 0 0 0 0 0 0 0 0 0 0 0 0 0 0 0 0 0 0 0 0 0 0 0 0 0 0 0 0 0 0 0 0 0 0 0 0 0 0 0 0 0 0 0 0 0 0 0 0 0 0 0 0 0 0 0 0 0 0 0 0 0 0 0 0 0 0 0 0 0 0 0\n"
     ]
    },
    {
     "name": "stdout",
     "output_type": "stream",
     "text": [
      "INFO:tensorflow:label: 0 (id = 0)\n"
     ]
    },
    {
     "name": "stderr",
     "output_type": "stream",
     "text": [
      "INFO:tensorflow:label: 0 (id = 0)\n"
     ]
    },
    {
     "name": "stdout",
     "output_type": "stream",
     "text": [
      "INFO:tensorflow:*** Example ***\n"
     ]
    },
    {
     "name": "stderr",
     "output_type": "stream",
     "text": [
      "INFO:tensorflow:*** Example ***\n"
     ]
    },
    {
     "name": "stdout",
     "output_type": "stream",
     "text": [
      "INFO:tensorflow:guid: None\n"
     ]
    },
    {
     "name": "stderr",
     "output_type": "stream",
     "text": [
      "INFO:tensorflow:guid: None\n"
     ]
    },
    {
     "name": "stdout",
     "output_type": "stream",
     "text": [
      "INFO:tensorflow:tokens: [CLS] i am contact ##ing the cf ##p ##b as i am stunned and scared as my mortgage service ##r ci ##ti ##mo ##rt ##ga ##ge denied my request for a loan modification because the f ##ha loan i have that is co ##si ##gned by my brother who quit claimed off the property xx ##xx ##xx ##xx ##14 also co ##si ##gned for a loan with his girlfriend with xx ##xx xx ##xx and that loan happens to be an f ##ha loan that loan was taken out a few years after my loan so i can not understand why this is being held against me and ci ##ti ##mo ##rt ##ga ##ge will not modify my loan because of this i went online and pulled the f ##ha handbook guidelines refer ##ne ##ce handbook xx ##xx xx ##xx stating this is the exception and not the rule i tried appealing the decision and they came back today and stated my only option is short sale i have nowhere else to live and i started working a xx ##xx job for the past year just to be able to afford this home it appears from the f ##ha [SEP]\n"
     ]
    },
    {
     "name": "stderr",
     "output_type": "stream",
     "text": [
      "INFO:tensorflow:tokens: [CLS] i am contact ##ing the cf ##p ##b as i am stunned and scared as my mortgage service ##r ci ##ti ##mo ##rt ##ga ##ge denied my request for a loan modification because the f ##ha loan i have that is co ##si ##gned by my brother who quit claimed off the property xx ##xx ##xx ##xx ##14 also co ##si ##gned for a loan with his girlfriend with xx ##xx xx ##xx and that loan happens to be an f ##ha loan that loan was taken out a few years after my loan so i can not understand why this is being held against me and ci ##ti ##mo ##rt ##ga ##ge will not modify my loan because of this i went online and pulled the f ##ha handbook guidelines refer ##ne ##ce handbook xx ##xx xx ##xx stating this is the exception and not the rule i tried appealing the decision and they came back today and stated my only option is short sale i have nowhere else to live and i started working a xx ##xx job for the past year just to be able to afford this home it appears from the f ##ha [SEP]\n"
     ]
    },
    {
     "name": "stdout",
     "output_type": "stream",
     "text": [
      "INFO:tensorflow:input_ids: 101 1045 2572 3967 2075 1996 12935 2361 2497 2004 1045 2572 9860 1998 6015 2004 2026 14344 2326 2099 25022 3775 5302 5339 3654 3351 6380 2026 5227 2005 1037 5414 14080 2138 1996 1042 3270 5414 1045 2031 2008 2003 2522 5332 19225 2011 2026 2567 2040 8046 3555 2125 1996 3200 22038 20348 20348 20348 16932 2036 2522 5332 19225 2005 1037 5414 2007 2010 6513 2007 22038 20348 22038 20348 1998 2008 5414 6433 2000 2022 2019 1042 3270 5414 2008 5414 2001 2579 2041 1037 2261 2086 2044 2026 5414 2061 1045 2064 2025 3305 2339 2023 2003 2108 2218 2114 2033 1998 25022 3775 5302 5339 3654 3351 2097 2025 19933 2026 5414 2138 1997 2023 1045 2253 3784 1998 2766 1996 1042 3270 14812 11594 6523 2638 3401 14812 22038 20348 22038 20348 5517 2023 2003 1996 6453 1998 2025 1996 3627 1045 2699 16004 1996 3247 1998 2027 2234 2067 2651 1998 3090 2026 2069 5724 2003 2460 5096 1045 2031 7880 2842 2000 2444 1998 1045 2318 2551 1037 22038 20348 3105 2005 1996 2627 2095 2074 2000 2022 2583 2000 8984 2023 2188 2009 3544 2013 1996 1042 3270 102\n"
     ]
    },
    {
     "name": "stderr",
     "output_type": "stream",
     "text": [
      "INFO:tensorflow:input_ids: 101 1045 2572 3967 2075 1996 12935 2361 2497 2004 1045 2572 9860 1998 6015 2004 2026 14344 2326 2099 25022 3775 5302 5339 3654 3351 6380 2026 5227 2005 1037 5414 14080 2138 1996 1042 3270 5414 1045 2031 2008 2003 2522 5332 19225 2011 2026 2567 2040 8046 3555 2125 1996 3200 22038 20348 20348 20348 16932 2036 2522 5332 19225 2005 1037 5414 2007 2010 6513 2007 22038 20348 22038 20348 1998 2008 5414 6433 2000 2022 2019 1042 3270 5414 2008 5414 2001 2579 2041 1037 2261 2086 2044 2026 5414 2061 1045 2064 2025 3305 2339 2023 2003 2108 2218 2114 2033 1998 25022 3775 5302 5339 3654 3351 2097 2025 19933 2026 5414 2138 1997 2023 1045 2253 3784 1998 2766 1996 1042 3270 14812 11594 6523 2638 3401 14812 22038 20348 22038 20348 5517 2023 2003 1996 6453 1998 2025 1996 3627 1045 2699 16004 1996 3247 1998 2027 2234 2067 2651 1998 3090 2026 2069 5724 2003 2460 5096 1045 2031 7880 2842 2000 2444 1998 1045 2318 2551 1037 22038 20348 3105 2005 1996 2627 2095 2074 2000 2022 2583 2000 8984 2023 2188 2009 3544 2013 1996 1042 3270 102\n"
     ]
    },
    {
     "name": "stdout",
     "output_type": "stream",
     "text": [
      "INFO:tensorflow:input_mask: 1 1 1 1 1 1 1 1 1 1 1 1 1 1 1 1 1 1 1 1 1 1 1 1 1 1 1 1 1 1 1 1 1 1 1 1 1 1 1 1 1 1 1 1 1 1 1 1 1 1 1 1 1 1 1 1 1 1 1 1 1 1 1 1 1 1 1 1 1 1 1 1 1 1 1 1 1 1 1 1 1 1 1 1 1 1 1 1 1 1 1 1 1 1 1 1 1 1 1 1 1 1 1 1 1 1 1 1 1 1 1 1 1 1 1 1 1 1 1 1 1 1 1 1 1 1 1 1 1 1 1 1 1 1 1 1 1 1 1 1 1 1 1 1 1 1 1 1 1 1 1 1 1 1 1 1 1 1 1 1 1 1 1 1 1 1 1 1 1 1 1 1 1 1 1 1 1 1 1 1 1 1 1 1 1 1 1 1 1 1 1 1 1 1 1 1 1 1 1 1\n"
     ]
    },
    {
     "name": "stderr",
     "output_type": "stream",
     "text": [
      "INFO:tensorflow:input_mask: 1 1 1 1 1 1 1 1 1 1 1 1 1 1 1 1 1 1 1 1 1 1 1 1 1 1 1 1 1 1 1 1 1 1 1 1 1 1 1 1 1 1 1 1 1 1 1 1 1 1 1 1 1 1 1 1 1 1 1 1 1 1 1 1 1 1 1 1 1 1 1 1 1 1 1 1 1 1 1 1 1 1 1 1 1 1 1 1 1 1 1 1 1 1 1 1 1 1 1 1 1 1 1 1 1 1 1 1 1 1 1 1 1 1 1 1 1 1 1 1 1 1 1 1 1 1 1 1 1 1 1 1 1 1 1 1 1 1 1 1 1 1 1 1 1 1 1 1 1 1 1 1 1 1 1 1 1 1 1 1 1 1 1 1 1 1 1 1 1 1 1 1 1 1 1 1 1 1 1 1 1 1 1 1 1 1 1 1 1 1 1 1 1 1 1 1 1 1 1 1\n"
     ]
    },
    {
     "name": "stdout",
     "output_type": "stream",
     "text": [
      "INFO:tensorflow:segment_ids: 0 0 0 0 0 0 0 0 0 0 0 0 0 0 0 0 0 0 0 0 0 0 0 0 0 0 0 0 0 0 0 0 0 0 0 0 0 0 0 0 0 0 0 0 0 0 0 0 0 0 0 0 0 0 0 0 0 0 0 0 0 0 0 0 0 0 0 0 0 0 0 0 0 0 0 0 0 0 0 0 0 0 0 0 0 0 0 0 0 0 0 0 0 0 0 0 0 0 0 0 0 0 0 0 0 0 0 0 0 0 0 0 0 0 0 0 0 0 0 0 0 0 0 0 0 0 0 0 0 0 0 0 0 0 0 0 0 0 0 0 0 0 0 0 0 0 0 0 0 0 0 0 0 0 0 0 0 0 0 0 0 0 0 0 0 0 0 0 0 0 0 0 0 0 0 0 0 0 0 0 0 0 0 0 0 0 0 0 0 0 0 0 0 0 0 0 0 0 0 0\n"
     ]
    },
    {
     "name": "stderr",
     "output_type": "stream",
     "text": [
      "INFO:tensorflow:segment_ids: 0 0 0 0 0 0 0 0 0 0 0 0 0 0 0 0 0 0 0 0 0 0 0 0 0 0 0 0 0 0 0 0 0 0 0 0 0 0 0 0 0 0 0 0 0 0 0 0 0 0 0 0 0 0 0 0 0 0 0 0 0 0 0 0 0 0 0 0 0 0 0 0 0 0 0 0 0 0 0 0 0 0 0 0 0 0 0 0 0 0 0 0 0 0 0 0 0 0 0 0 0 0 0 0 0 0 0 0 0 0 0 0 0 0 0 0 0 0 0 0 0 0 0 0 0 0 0 0 0 0 0 0 0 0 0 0 0 0 0 0 0 0 0 0 0 0 0 0 0 0 0 0 0 0 0 0 0 0 0 0 0 0 0 0 0 0 0 0 0 0 0 0 0 0 0 0 0 0 0 0 0 0 0 0 0 0 0 0 0 0 0 0 0 0 0 0 0 0 0 0\n"
     ]
    },
    {
     "name": "stdout",
     "output_type": "stream",
     "text": [
      "INFO:tensorflow:label: 6 (id = 6)\n"
     ]
    },
    {
     "name": "stderr",
     "output_type": "stream",
     "text": [
      "INFO:tensorflow:label: 6 (id = 6)\n"
     ]
    },
    {
     "name": "stdout",
     "output_type": "stream",
     "text": [
      "INFO:tensorflow:*** Example ***\n"
     ]
    },
    {
     "name": "stderr",
     "output_type": "stream",
     "text": [
      "INFO:tensorflow:*** Example ***\n"
     ]
    },
    {
     "name": "stdout",
     "output_type": "stream",
     "text": [
      "INFO:tensorflow:guid: None\n"
     ]
    },
    {
     "name": "stderr",
     "output_type": "stream",
     "text": [
      "INFO:tensorflow:guid: None\n"
     ]
    },
    {
     "name": "stdout",
     "output_type": "stream",
     "text": [
      "INFO:tensorflow:tokens: [CLS] my parents received a phone call today from someone at xx ##xx referencing claim xx ##xx they were told that they are attorney s and have someone out to serve me papers today between xx ##xx and xx ##xx my father has the same name as i do except i m the xx ##xx they gave him my last xx ##xx digits of my ss ##n and he told them no one there has that they became rude with him i was at the doctors office getting my xx ##xx xx ##xx checked when my parents called very worried they gave me a phone number and claim number i stepped outside and contacted them the man answering connected me to another man s voice mail and i left no message called again and they forward ##ed me to a woman named xx ##xx she told me i needed to pay a debt to xx ##xx xx ##xx explained i do nt remember ever having a credit card she said the address they had been sending information to was in xx ##xx xx ##xx xx ##xx told her i had nt lived there for nine years she then said [SEP]\n"
     ]
    },
    {
     "name": "stderr",
     "output_type": "stream",
     "text": [
      "INFO:tensorflow:tokens: [CLS] my parents received a phone call today from someone at xx ##xx referencing claim xx ##xx they were told that they are attorney s and have someone out to serve me papers today between xx ##xx and xx ##xx my father has the same name as i do except i m the xx ##xx they gave him my last xx ##xx digits of my ss ##n and he told them no one there has that they became rude with him i was at the doctors office getting my xx ##xx xx ##xx checked when my parents called very worried they gave me a phone number and claim number i stepped outside and contacted them the man answering connected me to another man s voice mail and i left no message called again and they forward ##ed me to a woman named xx ##xx she told me i needed to pay a debt to xx ##xx xx ##xx explained i do nt remember ever having a credit card she said the address they had been sending information to was in xx ##xx xx ##xx xx ##xx told her i had nt lived there for nine years she then said [SEP]\n"
     ]
    },
    {
     "name": "stdout",
     "output_type": "stream",
     "text": [
      "INFO:tensorflow:input_ids: 101 2026 3008 2363 1037 3042 2655 2651 2013 2619 2012 22038 20348 28789 4366 22038 20348 2027 2020 2409 2008 2027 2024 4905 1055 1998 2031 2619 2041 2000 3710 2033 4981 2651 2090 22038 20348 1998 22038 20348 2026 2269 2038 1996 2168 2171 2004 1045 2079 3272 1045 1049 1996 22038 20348 2027 2435 2032 2026 2197 22038 20348 16648 1997 2026 7020 2078 1998 2002 2409 2068 2053 2028 2045 2038 2008 2027 2150 12726 2007 2032 1045 2001 2012 1996 7435 2436 2893 2026 22038 20348 22038 20348 7039 2043 2026 3008 2170 2200 5191 2027 2435 2033 1037 3042 2193 1998 4366 2193 1045 3706 2648 1998 11925 2068 1996 2158 10739 4198 2033 2000 2178 2158 1055 2376 5653 1998 1045 2187 2053 4471 2170 2153 1998 2027 2830 2098 2033 2000 1037 2450 2315 22038 20348 2016 2409 2033 1045 2734 2000 3477 1037 7016 2000 22038 20348 22038 20348 4541 1045 2079 23961 3342 2412 2383 1037 4923 4003 2016 2056 1996 4769 2027 2018 2042 6016 2592 2000 2001 1999 22038 20348 22038 20348 22038 20348 2409 2014 1045 2018 23961 2973 2045 2005 3157 2086 2016 2059 2056 102\n"
     ]
    },
    {
     "name": "stderr",
     "output_type": "stream",
     "text": [
      "INFO:tensorflow:input_ids: 101 2026 3008 2363 1037 3042 2655 2651 2013 2619 2012 22038 20348 28789 4366 22038 20348 2027 2020 2409 2008 2027 2024 4905 1055 1998 2031 2619 2041 2000 3710 2033 4981 2651 2090 22038 20348 1998 22038 20348 2026 2269 2038 1996 2168 2171 2004 1045 2079 3272 1045 1049 1996 22038 20348 2027 2435 2032 2026 2197 22038 20348 16648 1997 2026 7020 2078 1998 2002 2409 2068 2053 2028 2045 2038 2008 2027 2150 12726 2007 2032 1045 2001 2012 1996 7435 2436 2893 2026 22038 20348 22038 20348 7039 2043 2026 3008 2170 2200 5191 2027 2435 2033 1037 3042 2193 1998 4366 2193 1045 3706 2648 1998 11925 2068 1996 2158 10739 4198 2033 2000 2178 2158 1055 2376 5653 1998 1045 2187 2053 4471 2170 2153 1998 2027 2830 2098 2033 2000 1037 2450 2315 22038 20348 2016 2409 2033 1045 2734 2000 3477 1037 7016 2000 22038 20348 22038 20348 4541 1045 2079 23961 3342 2412 2383 1037 4923 4003 2016 2056 1996 4769 2027 2018 2042 6016 2592 2000 2001 1999 22038 20348 22038 20348 22038 20348 2409 2014 1045 2018 23961 2973 2045 2005 3157 2086 2016 2059 2056 102\n"
     ]
    },
    {
     "name": "stdout",
     "output_type": "stream",
     "text": [
      "INFO:tensorflow:input_mask: 1 1 1 1 1 1 1 1 1 1 1 1 1 1 1 1 1 1 1 1 1 1 1 1 1 1 1 1 1 1 1 1 1 1 1 1 1 1 1 1 1 1 1 1 1 1 1 1 1 1 1 1 1 1 1 1 1 1 1 1 1 1 1 1 1 1 1 1 1 1 1 1 1 1 1 1 1 1 1 1 1 1 1 1 1 1 1 1 1 1 1 1 1 1 1 1 1 1 1 1 1 1 1 1 1 1 1 1 1 1 1 1 1 1 1 1 1 1 1 1 1 1 1 1 1 1 1 1 1 1 1 1 1 1 1 1 1 1 1 1 1 1 1 1 1 1 1 1 1 1 1 1 1 1 1 1 1 1 1 1 1 1 1 1 1 1 1 1 1 1 1 1 1 1 1 1 1 1 1 1 1 1 1 1 1 1 1 1 1 1 1 1 1 1 1 1 1 1 1 1\n"
     ]
    },
    {
     "name": "stderr",
     "output_type": "stream",
     "text": [
      "INFO:tensorflow:input_mask: 1 1 1 1 1 1 1 1 1 1 1 1 1 1 1 1 1 1 1 1 1 1 1 1 1 1 1 1 1 1 1 1 1 1 1 1 1 1 1 1 1 1 1 1 1 1 1 1 1 1 1 1 1 1 1 1 1 1 1 1 1 1 1 1 1 1 1 1 1 1 1 1 1 1 1 1 1 1 1 1 1 1 1 1 1 1 1 1 1 1 1 1 1 1 1 1 1 1 1 1 1 1 1 1 1 1 1 1 1 1 1 1 1 1 1 1 1 1 1 1 1 1 1 1 1 1 1 1 1 1 1 1 1 1 1 1 1 1 1 1 1 1 1 1 1 1 1 1 1 1 1 1 1 1 1 1 1 1 1 1 1 1 1 1 1 1 1 1 1 1 1 1 1 1 1 1 1 1 1 1 1 1 1 1 1 1 1 1 1 1 1 1 1 1 1 1 1 1 1 1\n"
     ]
    },
    {
     "name": "stdout",
     "output_type": "stream",
     "text": [
      "INFO:tensorflow:segment_ids: 0 0 0 0 0 0 0 0 0 0 0 0 0 0 0 0 0 0 0 0 0 0 0 0 0 0 0 0 0 0 0 0 0 0 0 0 0 0 0 0 0 0 0 0 0 0 0 0 0 0 0 0 0 0 0 0 0 0 0 0 0 0 0 0 0 0 0 0 0 0 0 0 0 0 0 0 0 0 0 0 0 0 0 0 0 0 0 0 0 0 0 0 0 0 0 0 0 0 0 0 0 0 0 0 0 0 0 0 0 0 0 0 0 0 0 0 0 0 0 0 0 0 0 0 0 0 0 0 0 0 0 0 0 0 0 0 0 0 0 0 0 0 0 0 0 0 0 0 0 0 0 0 0 0 0 0 0 0 0 0 0 0 0 0 0 0 0 0 0 0 0 0 0 0 0 0 0 0 0 0 0 0 0 0 0 0 0 0 0 0 0 0 0 0 0 0 0 0 0 0\n"
     ]
    },
    {
     "name": "stderr",
     "output_type": "stream",
     "text": [
      "INFO:tensorflow:segment_ids: 0 0 0 0 0 0 0 0 0 0 0 0 0 0 0 0 0 0 0 0 0 0 0 0 0 0 0 0 0 0 0 0 0 0 0 0 0 0 0 0 0 0 0 0 0 0 0 0 0 0 0 0 0 0 0 0 0 0 0 0 0 0 0 0 0 0 0 0 0 0 0 0 0 0 0 0 0 0 0 0 0 0 0 0 0 0 0 0 0 0 0 0 0 0 0 0 0 0 0 0 0 0 0 0 0 0 0 0 0 0 0 0 0 0 0 0 0 0 0 0 0 0 0 0 0 0 0 0 0 0 0 0 0 0 0 0 0 0 0 0 0 0 0 0 0 0 0 0 0 0 0 0 0 0 0 0 0 0 0 0 0 0 0 0 0 0 0 0 0 0 0 0 0 0 0 0 0 0 0 0 0 0 0 0 0 0 0 0 0 0 0 0 0 0 0 0 0 0 0 0\n"
     ]
    },
    {
     "name": "stdout",
     "output_type": "stream",
     "text": [
      "INFO:tensorflow:label: 4 (id = 4)\n"
     ]
    },
    {
     "name": "stderr",
     "output_type": "stream",
     "text": [
      "INFO:tensorflow:label: 4 (id = 4)\n"
     ]
    },
    {
     "name": "stdout",
     "output_type": "stream",
     "text": [
      "INFO:tensorflow:*** Example ***\n"
     ]
    },
    {
     "name": "stderr",
     "output_type": "stream",
     "text": [
      "INFO:tensorflow:*** Example ***\n"
     ]
    },
    {
     "name": "stdout",
     "output_type": "stream",
     "text": [
      "INFO:tensorflow:guid: None\n"
     ]
    },
    {
     "name": "stderr",
     "output_type": "stream",
     "text": [
      "INFO:tensorflow:guid: None\n"
     ]
    },
    {
     "name": "stdout",
     "output_type": "stream",
     "text": [
      "INFO:tensorflow:tokens: [CLS] wells fargo xx ##xx and xx ##xx xx ##xx continue to take my case lightly i have asked for assistance from many departments within wells fargo ultimately i ve been directed to executive mortgage specialists and their supervisors i ve asked xx ##xx to clarify its role in the ongoing fore ##cl ##os ##ure scheme that its em ##bro ##iled in with wells fargo home mortgage i ve asked a variety of governmental agencies to help hold the above mentioned banking institutions more accountable however not enough action or enforcement is taking place to prevent service ##rs such as wells fargo home mortgage from rei ##tera ##ting the same indirect responses for a variety of questions and complaints this process actually helps the banks and reduces the willingness for some consumers to en ##trust that the system that is in place by the cf ##p ##b is worth pursuing now i am seeking the highest level of es ##cala ##tion from the cf ##p ##b to review my case in its entirety i am seeking the support of the director xx ##xx xx ##xx and the deputy director xx ##xx xx ##xx to review the documents that i [SEP]\n"
     ]
    },
    {
     "name": "stderr",
     "output_type": "stream",
     "text": [
      "INFO:tensorflow:tokens: [CLS] wells fargo xx ##xx and xx ##xx xx ##xx continue to take my case lightly i have asked for assistance from many departments within wells fargo ultimately i ve been directed to executive mortgage specialists and their supervisors i ve asked xx ##xx to clarify its role in the ongoing fore ##cl ##os ##ure scheme that its em ##bro ##iled in with wells fargo home mortgage i ve asked a variety of governmental agencies to help hold the above mentioned banking institutions more accountable however not enough action or enforcement is taking place to prevent service ##rs such as wells fargo home mortgage from rei ##tera ##ting the same indirect responses for a variety of questions and complaints this process actually helps the banks and reduces the willingness for some consumers to en ##trust that the system that is in place by the cf ##p ##b is worth pursuing now i am seeking the highest level of es ##cala ##tion from the cf ##p ##b to review my case in its entirety i am seeking the support of the director xx ##xx xx ##xx and the deputy director xx ##xx xx ##xx to review the documents that i [SEP]\n"
     ]
    },
    {
     "name": "stdout",
     "output_type": "stream",
     "text": [
      "INFO:tensorflow:input_ids: 101 7051 23054 22038 20348 1998 22038 20348 22038 20348 3613 2000 2202 2026 2553 8217 1045 2031 2356 2005 5375 2013 2116 7640 2306 7051 23054 4821 1045 2310 2042 2856 2000 3237 14344 15744 1998 2037 22565 1045 2310 2356 22038 20348 2000 25037 2049 2535 1999 1996 7552 18921 20464 2891 5397 5679 2008 2049 7861 12618 18450 1999 2007 7051 23054 2188 14344 1045 2310 2356 1037 3528 1997 10605 6736 2000 2393 2907 1996 2682 3855 8169 4896 2062 26771 2174 2025 2438 2895 2030 7285 2003 2635 2173 2000 4652 2326 2869 2107 2004 7051 23054 2188 14344 2013 24964 14621 3436 1996 2168 14958 10960 2005 1037 3528 1997 3980 1998 10821 2023 2832 2941 7126 1996 5085 1998 13416 1996 19732 2005 2070 10390 2000 4372 24669 2008 1996 2291 2008 2003 1999 2173 2011 1996 12935 2361 2497 2003 4276 11828 2085 1045 2572 6224 1996 3284 2504 1997 9686 25015 3508 2013 1996 12935 2361 2497 2000 3319 2026 2553 1999 2049 15700 1045 2572 6224 1996 2490 1997 1996 2472 22038 20348 22038 20348 1998 1996 4112 2472 22038 20348 22038 20348 2000 3319 1996 5491 2008 1045 102\n"
     ]
    },
    {
     "name": "stderr",
     "output_type": "stream",
     "text": [
      "INFO:tensorflow:input_ids: 101 7051 23054 22038 20348 1998 22038 20348 22038 20348 3613 2000 2202 2026 2553 8217 1045 2031 2356 2005 5375 2013 2116 7640 2306 7051 23054 4821 1045 2310 2042 2856 2000 3237 14344 15744 1998 2037 22565 1045 2310 2356 22038 20348 2000 25037 2049 2535 1999 1996 7552 18921 20464 2891 5397 5679 2008 2049 7861 12618 18450 1999 2007 7051 23054 2188 14344 1045 2310 2356 1037 3528 1997 10605 6736 2000 2393 2907 1996 2682 3855 8169 4896 2062 26771 2174 2025 2438 2895 2030 7285 2003 2635 2173 2000 4652 2326 2869 2107 2004 7051 23054 2188 14344 2013 24964 14621 3436 1996 2168 14958 10960 2005 1037 3528 1997 3980 1998 10821 2023 2832 2941 7126 1996 5085 1998 13416 1996 19732 2005 2070 10390 2000 4372 24669 2008 1996 2291 2008 2003 1999 2173 2011 1996 12935 2361 2497 2003 4276 11828 2085 1045 2572 6224 1996 3284 2504 1997 9686 25015 3508 2013 1996 12935 2361 2497 2000 3319 2026 2553 1999 2049 15700 1045 2572 6224 1996 2490 1997 1996 2472 22038 20348 22038 20348 1998 1996 4112 2472 22038 20348 22038 20348 2000 3319 1996 5491 2008 1045 102\n"
     ]
    },
    {
     "name": "stdout",
     "output_type": "stream",
     "text": [
      "INFO:tensorflow:input_mask: 1 1 1 1 1 1 1 1 1 1 1 1 1 1 1 1 1 1 1 1 1 1 1 1 1 1 1 1 1 1 1 1 1 1 1 1 1 1 1 1 1 1 1 1 1 1 1 1 1 1 1 1 1 1 1 1 1 1 1 1 1 1 1 1 1 1 1 1 1 1 1 1 1 1 1 1 1 1 1 1 1 1 1 1 1 1 1 1 1 1 1 1 1 1 1 1 1 1 1 1 1 1 1 1 1 1 1 1 1 1 1 1 1 1 1 1 1 1 1 1 1 1 1 1 1 1 1 1 1 1 1 1 1 1 1 1 1 1 1 1 1 1 1 1 1 1 1 1 1 1 1 1 1 1 1 1 1 1 1 1 1 1 1 1 1 1 1 1 1 1 1 1 1 1 1 1 1 1 1 1 1 1 1 1 1 1 1 1 1 1 1 1 1 1 1 1 1 1 1 1\n"
     ]
    },
    {
     "name": "stderr",
     "output_type": "stream",
     "text": [
      "INFO:tensorflow:input_mask: 1 1 1 1 1 1 1 1 1 1 1 1 1 1 1 1 1 1 1 1 1 1 1 1 1 1 1 1 1 1 1 1 1 1 1 1 1 1 1 1 1 1 1 1 1 1 1 1 1 1 1 1 1 1 1 1 1 1 1 1 1 1 1 1 1 1 1 1 1 1 1 1 1 1 1 1 1 1 1 1 1 1 1 1 1 1 1 1 1 1 1 1 1 1 1 1 1 1 1 1 1 1 1 1 1 1 1 1 1 1 1 1 1 1 1 1 1 1 1 1 1 1 1 1 1 1 1 1 1 1 1 1 1 1 1 1 1 1 1 1 1 1 1 1 1 1 1 1 1 1 1 1 1 1 1 1 1 1 1 1 1 1 1 1 1 1 1 1 1 1 1 1 1 1 1 1 1 1 1 1 1 1 1 1 1 1 1 1 1 1 1 1 1 1 1 1 1 1 1 1\n"
     ]
    },
    {
     "name": "stdout",
     "output_type": "stream",
     "text": [
      "INFO:tensorflow:segment_ids: 0 0 0 0 0 0 0 0 0 0 0 0 0 0 0 0 0 0 0 0 0 0 0 0 0 0 0 0 0 0 0 0 0 0 0 0 0 0 0 0 0 0 0 0 0 0 0 0 0 0 0 0 0 0 0 0 0 0 0 0 0 0 0 0 0 0 0 0 0 0 0 0 0 0 0 0 0 0 0 0 0 0 0 0 0 0 0 0 0 0 0 0 0 0 0 0 0 0 0 0 0 0 0 0 0 0 0 0 0 0 0 0 0 0 0 0 0 0 0 0 0 0 0 0 0 0 0 0 0 0 0 0 0 0 0 0 0 0 0 0 0 0 0 0 0 0 0 0 0 0 0 0 0 0 0 0 0 0 0 0 0 0 0 0 0 0 0 0 0 0 0 0 0 0 0 0 0 0 0 0 0 0 0 0 0 0 0 0 0 0 0 0 0 0 0 0 0 0 0 0\n"
     ]
    },
    {
     "name": "stderr",
     "output_type": "stream",
     "text": [
      "INFO:tensorflow:segment_ids: 0 0 0 0 0 0 0 0 0 0 0 0 0 0 0 0 0 0 0 0 0 0 0 0 0 0 0 0 0 0 0 0 0 0 0 0 0 0 0 0 0 0 0 0 0 0 0 0 0 0 0 0 0 0 0 0 0 0 0 0 0 0 0 0 0 0 0 0 0 0 0 0 0 0 0 0 0 0 0 0 0 0 0 0 0 0 0 0 0 0 0 0 0 0 0 0 0 0 0 0 0 0 0 0 0 0 0 0 0 0 0 0 0 0 0 0 0 0 0 0 0 0 0 0 0 0 0 0 0 0 0 0 0 0 0 0 0 0 0 0 0 0 0 0 0 0 0 0 0 0 0 0 0 0 0 0 0 0 0 0 0 0 0 0 0 0 0 0 0 0 0 0 0 0 0 0 0 0 0 0 0 0 0 0 0 0 0 0 0 0 0 0 0 0 0 0 0 0 0 0\n"
     ]
    },
    {
     "name": "stdout",
     "output_type": "stream",
     "text": [
      "INFO:tensorflow:label: 6 (id = 6)\n"
     ]
    },
    {
     "name": "stderr",
     "output_type": "stream",
     "text": [
      "INFO:tensorflow:label: 6 (id = 6)\n"
     ]
    },
    {
     "name": "stdout",
     "output_type": "stream",
     "text": [
      "INFO:tensorflow:*** Example ***\n"
     ]
    },
    {
     "name": "stderr",
     "output_type": "stream",
     "text": [
      "INFO:tensorflow:*** Example ***\n"
     ]
    },
    {
     "name": "stdout",
     "output_type": "stream",
     "text": [
      "INFO:tensorflow:guid: None\n"
     ]
    },
    {
     "name": "stderr",
     "output_type": "stream",
     "text": [
      "INFO:tensorflow:guid: None\n"
     ]
    },
    {
     "name": "stdout",
     "output_type": "stream",
     "text": [
      "INFO:tensorflow:tokens: [CLS] my mortgage is currently owned by green tree llc today xx ##xx xx ##xx i received a statement not ##ifying me of an increase in my monthly payment to cover hazard insurance because they claim i do not have insurance coverage on the property that is not true on xx ##xx xx ##xx my insurance company fa ##xed my insurance policy showing them as the loss pay ##ee to the toll free number listed in their dunn ##ing notice on xx ##xx xx ##xx i called green tree and was told the fa ##x was received and that my insurance information was on file with an ex ##piration date of 2016 which was correct i updated the loss pay ##ee information on my insurance when i renewed it in xx ##xx this year but i used the green tree address on my mortgage statement because i did not realize i should have used a different xx ##xx when i received the first dunn ##ing notice from green tree in xx ##xx i was so upset that i did not read it carefully i fa ##xed them a copy of my insurance policy myself not realizing i should not [SEP]\n"
     ]
    },
    {
     "name": "stderr",
     "output_type": "stream",
     "text": [
      "INFO:tensorflow:tokens: [CLS] my mortgage is currently owned by green tree llc today xx ##xx xx ##xx i received a statement not ##ifying me of an increase in my monthly payment to cover hazard insurance because they claim i do not have insurance coverage on the property that is not true on xx ##xx xx ##xx my insurance company fa ##xed my insurance policy showing them as the loss pay ##ee to the toll free number listed in their dunn ##ing notice on xx ##xx xx ##xx i called green tree and was told the fa ##x was received and that my insurance information was on file with an ex ##piration date of 2016 which was correct i updated the loss pay ##ee information on my insurance when i renewed it in xx ##xx this year but i used the green tree address on my mortgage statement because i did not realize i should have used a different xx ##xx when i received the first dunn ##ing notice from green tree in xx ##xx i was so upset that i did not read it carefully i fa ##xed them a copy of my insurance policy myself not realizing i should not [SEP]\n"
     ]
    },
    {
     "name": "stdout",
     "output_type": "stream",
     "text": [
      "INFO:tensorflow:input_ids: 101 2026 14344 2003 2747 3079 2011 2665 3392 11775 2651 22038 20348 22038 20348 1045 2363 1037 4861 2025 11787 2033 1997 2019 3623 1999 2026 7058 7909 2000 3104 15559 5427 2138 2027 4366 1045 2079 2025 2031 5427 6325 2006 1996 3200 2008 2003 2025 2995 2006 22038 20348 22038 20348 2026 5427 2194 6904 19068 2026 5427 3343 4760 2068 2004 1996 3279 3477 4402 2000 1996 9565 2489 2193 3205 1999 2037 14145 2075 5060 2006 22038 20348 22038 20348 1045 2170 2665 3392 1998 2001 2409 1996 6904 2595 2001 2363 1998 2008 2026 5427 2592 2001 2006 5371 2007 2019 4654 16781 3058 1997 2355 2029 2001 6149 1045 7172 1996 3279 3477 4402 2592 2006 2026 5427 2043 1045 9100 2009 1999 22038 20348 2023 2095 2021 1045 2109 1996 2665 3392 4769 2006 2026 14344 4861 2138 1045 2106 2025 5382 1045 2323 2031 2109 1037 2367 22038 20348 2043 1045 2363 1996 2034 14145 2075 5060 2013 2665 3392 1999 22038 20348 1045 2001 2061 6314 2008 1045 2106 2025 3191 2009 5362 1045 6904 19068 2068 1037 6100 1997 2026 5427 3343 2870 2025 9301 1045 2323 2025 102\n"
     ]
    },
    {
     "name": "stderr",
     "output_type": "stream",
     "text": [
      "INFO:tensorflow:input_ids: 101 2026 14344 2003 2747 3079 2011 2665 3392 11775 2651 22038 20348 22038 20348 1045 2363 1037 4861 2025 11787 2033 1997 2019 3623 1999 2026 7058 7909 2000 3104 15559 5427 2138 2027 4366 1045 2079 2025 2031 5427 6325 2006 1996 3200 2008 2003 2025 2995 2006 22038 20348 22038 20348 2026 5427 2194 6904 19068 2026 5427 3343 4760 2068 2004 1996 3279 3477 4402 2000 1996 9565 2489 2193 3205 1999 2037 14145 2075 5060 2006 22038 20348 22038 20348 1045 2170 2665 3392 1998 2001 2409 1996 6904 2595 2001 2363 1998 2008 2026 5427 2592 2001 2006 5371 2007 2019 4654 16781 3058 1997 2355 2029 2001 6149 1045 7172 1996 3279 3477 4402 2592 2006 2026 5427 2043 1045 9100 2009 1999 22038 20348 2023 2095 2021 1045 2109 1996 2665 3392 4769 2006 2026 14344 4861 2138 1045 2106 2025 5382 1045 2323 2031 2109 1037 2367 22038 20348 2043 1045 2363 1996 2034 14145 2075 5060 2013 2665 3392 1999 22038 20348 1045 2001 2061 6314 2008 1045 2106 2025 3191 2009 5362 1045 6904 19068 2068 1037 6100 1997 2026 5427 3343 2870 2025 9301 1045 2323 2025 102\n"
     ]
    },
    {
     "name": "stdout",
     "output_type": "stream",
     "text": [
      "INFO:tensorflow:input_mask: 1 1 1 1 1 1 1 1 1 1 1 1 1 1 1 1 1 1 1 1 1 1 1 1 1 1 1 1 1 1 1 1 1 1 1 1 1 1 1 1 1 1 1 1 1 1 1 1 1 1 1 1 1 1 1 1 1 1 1 1 1 1 1 1 1 1 1 1 1 1 1 1 1 1 1 1 1 1 1 1 1 1 1 1 1 1 1 1 1 1 1 1 1 1 1 1 1 1 1 1 1 1 1 1 1 1 1 1 1 1 1 1 1 1 1 1 1 1 1 1 1 1 1 1 1 1 1 1 1 1 1 1 1 1 1 1 1 1 1 1 1 1 1 1 1 1 1 1 1 1 1 1 1 1 1 1 1 1 1 1 1 1 1 1 1 1 1 1 1 1 1 1 1 1 1 1 1 1 1 1 1 1 1 1 1 1 1 1 1 1 1 1 1 1 1 1 1 1 1 1\n"
     ]
    },
    {
     "name": "stderr",
     "output_type": "stream",
     "text": [
      "INFO:tensorflow:input_mask: 1 1 1 1 1 1 1 1 1 1 1 1 1 1 1 1 1 1 1 1 1 1 1 1 1 1 1 1 1 1 1 1 1 1 1 1 1 1 1 1 1 1 1 1 1 1 1 1 1 1 1 1 1 1 1 1 1 1 1 1 1 1 1 1 1 1 1 1 1 1 1 1 1 1 1 1 1 1 1 1 1 1 1 1 1 1 1 1 1 1 1 1 1 1 1 1 1 1 1 1 1 1 1 1 1 1 1 1 1 1 1 1 1 1 1 1 1 1 1 1 1 1 1 1 1 1 1 1 1 1 1 1 1 1 1 1 1 1 1 1 1 1 1 1 1 1 1 1 1 1 1 1 1 1 1 1 1 1 1 1 1 1 1 1 1 1 1 1 1 1 1 1 1 1 1 1 1 1 1 1 1 1 1 1 1 1 1 1 1 1 1 1 1 1 1 1 1 1 1 1\n"
     ]
    },
    {
     "name": "stdout",
     "output_type": "stream",
     "text": [
      "INFO:tensorflow:segment_ids: 0 0 0 0 0 0 0 0 0 0 0 0 0 0 0 0 0 0 0 0 0 0 0 0 0 0 0 0 0 0 0 0 0 0 0 0 0 0 0 0 0 0 0 0 0 0 0 0 0 0 0 0 0 0 0 0 0 0 0 0 0 0 0 0 0 0 0 0 0 0 0 0 0 0 0 0 0 0 0 0 0 0 0 0 0 0 0 0 0 0 0 0 0 0 0 0 0 0 0 0 0 0 0 0 0 0 0 0 0 0 0 0 0 0 0 0 0 0 0 0 0 0 0 0 0 0 0 0 0 0 0 0 0 0 0 0 0 0 0 0 0 0 0 0 0 0 0 0 0 0 0 0 0 0 0 0 0 0 0 0 0 0 0 0 0 0 0 0 0 0 0 0 0 0 0 0 0 0 0 0 0 0 0 0 0 0 0 0 0 0 0 0 0 0 0 0 0 0 0 0\n"
     ]
    },
    {
     "name": "stderr",
     "output_type": "stream",
     "text": [
      "INFO:tensorflow:segment_ids: 0 0 0 0 0 0 0 0 0 0 0 0 0 0 0 0 0 0 0 0 0 0 0 0 0 0 0 0 0 0 0 0 0 0 0 0 0 0 0 0 0 0 0 0 0 0 0 0 0 0 0 0 0 0 0 0 0 0 0 0 0 0 0 0 0 0 0 0 0 0 0 0 0 0 0 0 0 0 0 0 0 0 0 0 0 0 0 0 0 0 0 0 0 0 0 0 0 0 0 0 0 0 0 0 0 0 0 0 0 0 0 0 0 0 0 0 0 0 0 0 0 0 0 0 0 0 0 0 0 0 0 0 0 0 0 0 0 0 0 0 0 0 0 0 0 0 0 0 0 0 0 0 0 0 0 0 0 0 0 0 0 0 0 0 0 0 0 0 0 0 0 0 0 0 0 0 0 0 0 0 0 0 0 0 0 0 0 0 0 0 0 0 0 0 0 0 0 0 0 0\n"
     ]
    },
    {
     "name": "stdout",
     "output_type": "stream",
     "text": [
      "INFO:tensorflow:label: 6 (id = 6)\n"
     ]
    },
    {
     "name": "stderr",
     "output_type": "stream",
     "text": [
      "INFO:tensorflow:label: 6 (id = 6)\n"
     ]
    },
    {
     "name": "stdout",
     "output_type": "stream",
     "text": [
      "INFO:tensorflow:Writing example 10000 of 13713\n"
     ]
    },
    {
     "name": "stderr",
     "output_type": "stream",
     "text": [
      "INFO:tensorflow:Writing example 10000 of 13713\n"
     ]
    },
    {
     "name": "stdout",
     "output_type": "stream",
     "text": [
      "INFO:tensorflow:Writing example 0 of 3429\n"
     ]
    },
    {
     "name": "stderr",
     "output_type": "stream",
     "text": [
      "INFO:tensorflow:Writing example 0 of 3429\n"
     ]
    },
    {
     "name": "stdout",
     "output_type": "stream",
     "text": [
      "INFO:tensorflow:*** Example ***\n"
     ]
    },
    {
     "name": "stderr",
     "output_type": "stream",
     "text": [
      "INFO:tensorflow:*** Example ***\n"
     ]
    },
    {
     "name": "stdout",
     "output_type": "stream",
     "text": [
      "INFO:tensorflow:guid: None\n"
     ]
    },
    {
     "name": "stderr",
     "output_type": "stream",
     "text": [
      "INFO:tensorflow:guid: None\n"
     ]
    },
    {
     "name": "stdout",
     "output_type": "stream",
     "text": [
      "INFO:tensorflow:tokens: [CLS] working with titan title in xx ##xx during the closing on the sale of my house was challenging to say the least careless errors excessive charges rude and un ##pro ##fe ##ssion ##al employees and multiple document changes made for a less than pleasant experience not only did they charge me 770 ##00 in unpaid taxes on a property that i did nt own sloppy and careless work it was a different address than the house being sold there were hundreds of dollars that would not have been charged with a xx ##xx xx ##xx xx ##xx xx ##xx the lend ##er had required that we use titan title in xx ##xx although the property being sold was located in xx ##xx since there were several charges that our xx ##xx xx ##xx xx ##xx xx ##xx do not require we asked that titan charge at the local rates where the home was located they refused unnecessary charges doubled the amount of my closing costs survey instead of a mortgage inspection certificate with a difference of 320 ##00 adjusted to difference of 2000 ##0 bankruptcy search 800 ##0 even though my credit score is in excess of xx [SEP]\n"
     ]
    },
    {
     "name": "stderr",
     "output_type": "stream",
     "text": [
      "INFO:tensorflow:tokens: [CLS] working with titan title in xx ##xx during the closing on the sale of my house was challenging to say the least careless errors excessive charges rude and un ##pro ##fe ##ssion ##al employees and multiple document changes made for a less than pleasant experience not only did they charge me 770 ##00 in unpaid taxes on a property that i did nt own sloppy and careless work it was a different address than the house being sold there were hundreds of dollars that would not have been charged with a xx ##xx xx ##xx xx ##xx xx ##xx the lend ##er had required that we use titan title in xx ##xx although the property being sold was located in xx ##xx since there were several charges that our xx ##xx xx ##xx xx ##xx xx ##xx do not require we asked that titan charge at the local rates where the home was located they refused unnecessary charges doubled the amount of my closing costs survey instead of a mortgage inspection certificate with a difference of 320 ##00 adjusted to difference of 2000 ##0 bankruptcy search 800 ##0 even though my credit score is in excess of xx [SEP]\n"
     ]
    },
    {
     "name": "stdout",
     "output_type": "stream",
     "text": [
      "INFO:tensorflow:input_ids: 101 2551 2007 16537 2516 1999 22038 20348 2076 1996 5494 2006 1996 5096 1997 2026 2160 2001 10368 2000 2360 1996 2560 23358 10697 11664 5571 12726 1998 4895 21572 7959 28231 2389 5126 1998 3674 6254 3431 2081 2005 1037 2625 2084 8242 3325 2025 2069 2106 2027 3715 2033 29065 8889 1999 23850 7773 2006 1037 3200 2008 1045 2106 23961 2219 28810 1998 23358 2147 2009 2001 1037 2367 4769 2084 1996 2160 2108 2853 2045 2020 5606 1997 6363 2008 2052 2025 2031 2042 5338 2007 1037 22038 20348 22038 20348 22038 20348 22038 20348 1996 18496 2121 2018 3223 2008 2057 2224 16537 2516 1999 22038 20348 2348 1996 3200 2108 2853 2001 2284 1999 22038 20348 2144 2045 2020 2195 5571 2008 2256 22038 20348 22038 20348 22038 20348 22038 20348 2079 2025 5478 2057 2356 2008 16537 3715 2012 1996 2334 6165 2073 1996 2188 2001 2284 2027 4188 14203 5571 11515 1996 3815 1997 2026 5494 5366 5002 2612 1997 1037 14344 10569 8196 2007 1037 4489 1997 13710 8889 10426 2000 4489 1997 2456 2692 10528 3945 5385 2692 2130 2295 2026 4923 3556 2003 1999 9987 1997 22038 102\n"
     ]
    },
    {
     "name": "stderr",
     "output_type": "stream",
     "text": [
      "INFO:tensorflow:input_ids: 101 2551 2007 16537 2516 1999 22038 20348 2076 1996 5494 2006 1996 5096 1997 2026 2160 2001 10368 2000 2360 1996 2560 23358 10697 11664 5571 12726 1998 4895 21572 7959 28231 2389 5126 1998 3674 6254 3431 2081 2005 1037 2625 2084 8242 3325 2025 2069 2106 2027 3715 2033 29065 8889 1999 23850 7773 2006 1037 3200 2008 1045 2106 23961 2219 28810 1998 23358 2147 2009 2001 1037 2367 4769 2084 1996 2160 2108 2853 2045 2020 5606 1997 6363 2008 2052 2025 2031 2042 5338 2007 1037 22038 20348 22038 20348 22038 20348 22038 20348 1996 18496 2121 2018 3223 2008 2057 2224 16537 2516 1999 22038 20348 2348 1996 3200 2108 2853 2001 2284 1999 22038 20348 2144 2045 2020 2195 5571 2008 2256 22038 20348 22038 20348 22038 20348 22038 20348 2079 2025 5478 2057 2356 2008 16537 3715 2012 1996 2334 6165 2073 1996 2188 2001 2284 2027 4188 14203 5571 11515 1996 3815 1997 2026 5494 5366 5002 2612 1997 1037 14344 10569 8196 2007 1037 4489 1997 13710 8889 10426 2000 4489 1997 2456 2692 10528 3945 5385 2692 2130 2295 2026 4923 3556 2003 1999 9987 1997 22038 102\n"
     ]
    },
    {
     "name": "stdout",
     "output_type": "stream",
     "text": [
      "INFO:tensorflow:input_mask: 1 1 1 1 1 1 1 1 1 1 1 1 1 1 1 1 1 1 1 1 1 1 1 1 1 1 1 1 1 1 1 1 1 1 1 1 1 1 1 1 1 1 1 1 1 1 1 1 1 1 1 1 1 1 1 1 1 1 1 1 1 1 1 1 1 1 1 1 1 1 1 1 1 1 1 1 1 1 1 1 1 1 1 1 1 1 1 1 1 1 1 1 1 1 1 1 1 1 1 1 1 1 1 1 1 1 1 1 1 1 1 1 1 1 1 1 1 1 1 1 1 1 1 1 1 1 1 1 1 1 1 1 1 1 1 1 1 1 1 1 1 1 1 1 1 1 1 1 1 1 1 1 1 1 1 1 1 1 1 1 1 1 1 1 1 1 1 1 1 1 1 1 1 1 1 1 1 1 1 1 1 1 1 1 1 1 1 1 1 1 1 1 1 1 1 1 1 1 1 1\n"
     ]
    },
    {
     "name": "stderr",
     "output_type": "stream",
     "text": [
      "INFO:tensorflow:input_mask: 1 1 1 1 1 1 1 1 1 1 1 1 1 1 1 1 1 1 1 1 1 1 1 1 1 1 1 1 1 1 1 1 1 1 1 1 1 1 1 1 1 1 1 1 1 1 1 1 1 1 1 1 1 1 1 1 1 1 1 1 1 1 1 1 1 1 1 1 1 1 1 1 1 1 1 1 1 1 1 1 1 1 1 1 1 1 1 1 1 1 1 1 1 1 1 1 1 1 1 1 1 1 1 1 1 1 1 1 1 1 1 1 1 1 1 1 1 1 1 1 1 1 1 1 1 1 1 1 1 1 1 1 1 1 1 1 1 1 1 1 1 1 1 1 1 1 1 1 1 1 1 1 1 1 1 1 1 1 1 1 1 1 1 1 1 1 1 1 1 1 1 1 1 1 1 1 1 1 1 1 1 1 1 1 1 1 1 1 1 1 1 1 1 1 1 1 1 1 1 1\n"
     ]
    },
    {
     "name": "stdout",
     "output_type": "stream",
     "text": [
      "INFO:tensorflow:segment_ids: 0 0 0 0 0 0 0 0 0 0 0 0 0 0 0 0 0 0 0 0 0 0 0 0 0 0 0 0 0 0 0 0 0 0 0 0 0 0 0 0 0 0 0 0 0 0 0 0 0 0 0 0 0 0 0 0 0 0 0 0 0 0 0 0 0 0 0 0 0 0 0 0 0 0 0 0 0 0 0 0 0 0 0 0 0 0 0 0 0 0 0 0 0 0 0 0 0 0 0 0 0 0 0 0 0 0 0 0 0 0 0 0 0 0 0 0 0 0 0 0 0 0 0 0 0 0 0 0 0 0 0 0 0 0 0 0 0 0 0 0 0 0 0 0 0 0 0 0 0 0 0 0 0 0 0 0 0 0 0 0 0 0 0 0 0 0 0 0 0 0 0 0 0 0 0 0 0 0 0 0 0 0 0 0 0 0 0 0 0 0 0 0 0 0 0 0 0 0 0 0\n"
     ]
    },
    {
     "name": "stderr",
     "output_type": "stream",
     "text": [
      "INFO:tensorflow:segment_ids: 0 0 0 0 0 0 0 0 0 0 0 0 0 0 0 0 0 0 0 0 0 0 0 0 0 0 0 0 0 0 0 0 0 0 0 0 0 0 0 0 0 0 0 0 0 0 0 0 0 0 0 0 0 0 0 0 0 0 0 0 0 0 0 0 0 0 0 0 0 0 0 0 0 0 0 0 0 0 0 0 0 0 0 0 0 0 0 0 0 0 0 0 0 0 0 0 0 0 0 0 0 0 0 0 0 0 0 0 0 0 0 0 0 0 0 0 0 0 0 0 0 0 0 0 0 0 0 0 0 0 0 0 0 0 0 0 0 0 0 0 0 0 0 0 0 0 0 0 0 0 0 0 0 0 0 0 0 0 0 0 0 0 0 0 0 0 0 0 0 0 0 0 0 0 0 0 0 0 0 0 0 0 0 0 0 0 0 0 0 0 0 0 0 0 0 0 0 0 0 0\n"
     ]
    },
    {
     "name": "stdout",
     "output_type": "stream",
     "text": [
      "INFO:tensorflow:label: 6 (id = 6)\n"
     ]
    },
    {
     "name": "stderr",
     "output_type": "stream",
     "text": [
      "INFO:tensorflow:label: 6 (id = 6)\n"
     ]
    },
    {
     "name": "stdout",
     "output_type": "stream",
     "text": [
      "INFO:tensorflow:*** Example ***\n"
     ]
    },
    {
     "name": "stderr",
     "output_type": "stream",
     "text": [
      "INFO:tensorflow:*** Example ***\n"
     ]
    },
    {
     "name": "stdout",
     "output_type": "stream",
     "text": [
      "INFO:tensorflow:guid: None\n"
     ]
    },
    {
     "name": "stderr",
     "output_type": "stream",
     "text": [
      "INFO:tensorflow:guid: None\n"
     ]
    },
    {
     "name": "stdout",
     "output_type": "stream",
     "text": [
      "INFO:tensorflow:tokens: [CLS] to whom it may concern i xx ##xx xx ##xx here ##by declare that i have been a loyal customer of bank of america since 1998 i have changed accounts four times for security reasons but i never left my bank it has been about ten months or so since that the over ##dra ##ft fees that bank of america charges have become outrageous bank of america re ##ord ##ers de ##bit card transactions ##eb ##ill payments and withdraw ##s in various ways usually placing the higher amounts first that will leave customers with negative balance ##s xx ##xx therefore the average client will be left with more than a few costly over ##dra ##ft fees every time i have called to complain about how my available balance changes from day to day the supervisors and customer representatives tell me that the automatic system rear ##rang ##e transactions in different ways sometimes the automatic system will process larger transactions first and others the system will not process transactions correctly over the weekend consequently on monday morning the average costume ##r will be surprised with a bunch of over ##dra ##ft fees i have asked supervisors and customer rep [SEP]\n"
     ]
    },
    {
     "name": "stderr",
     "output_type": "stream",
     "text": [
      "INFO:tensorflow:tokens: [CLS] to whom it may concern i xx ##xx xx ##xx here ##by declare that i have been a loyal customer of bank of america since 1998 i have changed accounts four times for security reasons but i never left my bank it has been about ten months or so since that the over ##dra ##ft fees that bank of america charges have become outrageous bank of america re ##ord ##ers de ##bit card transactions ##eb ##ill payments and withdraw ##s in various ways usually placing the higher amounts first that will leave customers with negative balance ##s xx ##xx therefore the average client will be left with more than a few costly over ##dra ##ft fees every time i have called to complain about how my available balance changes from day to day the supervisors and customer representatives tell me that the automatic system rear ##rang ##e transactions in different ways sometimes the automatic system will process larger transactions first and others the system will not process transactions correctly over the weekend consequently on monday morning the average costume ##r will be surprised with a bunch of over ##dra ##ft fees i have asked supervisors and customer rep [SEP]\n"
     ]
    },
    {
     "name": "stdout",
     "output_type": "stream",
     "text": [
      "INFO:tensorflow:input_ids: 101 2000 3183 2009 2089 5142 1045 22038 20348 22038 20348 2182 3762 13520 2008 1045 2031 2042 1037 8884 8013 1997 2924 1997 2637 2144 2687 1045 2031 2904 6115 2176 2335 2005 3036 4436 2021 1045 2196 2187 2026 2924 2009 2038 2042 2055 2702 2706 2030 2061 2144 2008 1996 2058 7265 6199 9883 2008 2924 1997 2637 5571 2031 2468 25506 2924 1997 2637 2128 8551 2545 2139 16313 4003 11817 15878 8591 10504 1998 10632 2015 1999 2536 3971 2788 6885 1996 3020 8310 2034 2008 2097 2681 6304 2007 4997 5703 2015 22038 20348 3568 1996 2779 7396 2097 2022 2187 2007 2062 2084 1037 2261 17047 2058 7265 6199 9883 2296 2051 1045 2031 2170 2000 17612 2055 2129 2026 2800 5703 3431 2013 2154 2000 2154 1996 22565 1998 8013 4505 2425 2033 2008 1996 6882 2291 4373 24388 2063 11817 1999 2367 3971 2823 1996 6882 2291 2097 2832 3469 11817 2034 1998 2500 1996 2291 2097 2025 2832 11817 11178 2058 1996 5353 8821 2006 6928 2851 1996 2779 9427 2099 2097 2022 4527 2007 1037 9129 1997 2058 7265 6199 9883 1045 2031 2356 22565 1998 8013 16360 102\n"
     ]
    },
    {
     "name": "stderr",
     "output_type": "stream",
     "text": [
      "INFO:tensorflow:input_ids: 101 2000 3183 2009 2089 5142 1045 22038 20348 22038 20348 2182 3762 13520 2008 1045 2031 2042 1037 8884 8013 1997 2924 1997 2637 2144 2687 1045 2031 2904 6115 2176 2335 2005 3036 4436 2021 1045 2196 2187 2026 2924 2009 2038 2042 2055 2702 2706 2030 2061 2144 2008 1996 2058 7265 6199 9883 2008 2924 1997 2637 5571 2031 2468 25506 2924 1997 2637 2128 8551 2545 2139 16313 4003 11817 15878 8591 10504 1998 10632 2015 1999 2536 3971 2788 6885 1996 3020 8310 2034 2008 2097 2681 6304 2007 4997 5703 2015 22038 20348 3568 1996 2779 7396 2097 2022 2187 2007 2062 2084 1037 2261 17047 2058 7265 6199 9883 2296 2051 1045 2031 2170 2000 17612 2055 2129 2026 2800 5703 3431 2013 2154 2000 2154 1996 22565 1998 8013 4505 2425 2033 2008 1996 6882 2291 4373 24388 2063 11817 1999 2367 3971 2823 1996 6882 2291 2097 2832 3469 11817 2034 1998 2500 1996 2291 2097 2025 2832 11817 11178 2058 1996 5353 8821 2006 6928 2851 1996 2779 9427 2099 2097 2022 4527 2007 1037 9129 1997 2058 7265 6199 9883 1045 2031 2356 22565 1998 8013 16360 102\n"
     ]
    },
    {
     "name": "stdout",
     "output_type": "stream",
     "text": [
      "INFO:tensorflow:input_mask: 1 1 1 1 1 1 1 1 1 1 1 1 1 1 1 1 1 1 1 1 1 1 1 1 1 1 1 1 1 1 1 1 1 1 1 1 1 1 1 1 1 1 1 1 1 1 1 1 1 1 1 1 1 1 1 1 1 1 1 1 1 1 1 1 1 1 1 1 1 1 1 1 1 1 1 1 1 1 1 1 1 1 1 1 1 1 1 1 1 1 1 1 1 1 1 1 1 1 1 1 1 1 1 1 1 1 1 1 1 1 1 1 1 1 1 1 1 1 1 1 1 1 1 1 1 1 1 1 1 1 1 1 1 1 1 1 1 1 1 1 1 1 1 1 1 1 1 1 1 1 1 1 1 1 1 1 1 1 1 1 1 1 1 1 1 1 1 1 1 1 1 1 1 1 1 1 1 1 1 1 1 1 1 1 1 1 1 1 1 1 1 1 1 1 1 1 1 1 1 1\n"
     ]
    },
    {
     "name": "stderr",
     "output_type": "stream",
     "text": [
      "INFO:tensorflow:input_mask: 1 1 1 1 1 1 1 1 1 1 1 1 1 1 1 1 1 1 1 1 1 1 1 1 1 1 1 1 1 1 1 1 1 1 1 1 1 1 1 1 1 1 1 1 1 1 1 1 1 1 1 1 1 1 1 1 1 1 1 1 1 1 1 1 1 1 1 1 1 1 1 1 1 1 1 1 1 1 1 1 1 1 1 1 1 1 1 1 1 1 1 1 1 1 1 1 1 1 1 1 1 1 1 1 1 1 1 1 1 1 1 1 1 1 1 1 1 1 1 1 1 1 1 1 1 1 1 1 1 1 1 1 1 1 1 1 1 1 1 1 1 1 1 1 1 1 1 1 1 1 1 1 1 1 1 1 1 1 1 1 1 1 1 1 1 1 1 1 1 1 1 1 1 1 1 1 1 1 1 1 1 1 1 1 1 1 1 1 1 1 1 1 1 1 1 1 1 1 1 1\n"
     ]
    },
    {
     "name": "stdout",
     "output_type": "stream",
     "text": [
      "INFO:tensorflow:segment_ids: 0 0 0 0 0 0 0 0 0 0 0 0 0 0 0 0 0 0 0 0 0 0 0 0 0 0 0 0 0 0 0 0 0 0 0 0 0 0 0 0 0 0 0 0 0 0 0 0 0 0 0 0 0 0 0 0 0 0 0 0 0 0 0 0 0 0 0 0 0 0 0 0 0 0 0 0 0 0 0 0 0 0 0 0 0 0 0 0 0 0 0 0 0 0 0 0 0 0 0 0 0 0 0 0 0 0 0 0 0 0 0 0 0 0 0 0 0 0 0 0 0 0 0 0 0 0 0 0 0 0 0 0 0 0 0 0 0 0 0 0 0 0 0 0 0 0 0 0 0 0 0 0 0 0 0 0 0 0 0 0 0 0 0 0 0 0 0 0 0 0 0 0 0 0 0 0 0 0 0 0 0 0 0 0 0 0 0 0 0 0 0 0 0 0 0 0 0 0 0 0\n"
     ]
    },
    {
     "name": "stderr",
     "output_type": "stream",
     "text": [
      "INFO:tensorflow:segment_ids: 0 0 0 0 0 0 0 0 0 0 0 0 0 0 0 0 0 0 0 0 0 0 0 0 0 0 0 0 0 0 0 0 0 0 0 0 0 0 0 0 0 0 0 0 0 0 0 0 0 0 0 0 0 0 0 0 0 0 0 0 0 0 0 0 0 0 0 0 0 0 0 0 0 0 0 0 0 0 0 0 0 0 0 0 0 0 0 0 0 0 0 0 0 0 0 0 0 0 0 0 0 0 0 0 0 0 0 0 0 0 0 0 0 0 0 0 0 0 0 0 0 0 0 0 0 0 0 0 0 0 0 0 0 0 0 0 0 0 0 0 0 0 0 0 0 0 0 0 0 0 0 0 0 0 0 0 0 0 0 0 0 0 0 0 0 0 0 0 0 0 0 0 0 0 0 0 0 0 0 0 0 0 0 0 0 0 0 0 0 0 0 0 0 0 0 0 0 0 0 0\n"
     ]
    },
    {
     "name": "stdout",
     "output_type": "stream",
     "text": [
      "INFO:tensorflow:label: 0 (id = 0)\n"
     ]
    },
    {
     "name": "stderr",
     "output_type": "stream",
     "text": [
      "INFO:tensorflow:label: 0 (id = 0)\n"
     ]
    },
    {
     "name": "stdout",
     "output_type": "stream",
     "text": [
      "INFO:tensorflow:*** Example ***\n"
     ]
    },
    {
     "name": "stderr",
     "output_type": "stream",
     "text": [
      "INFO:tensorflow:*** Example ***\n"
     ]
    },
    {
     "name": "stdout",
     "output_type": "stream",
     "text": [
      "INFO:tensorflow:guid: None\n"
     ]
    },
    {
     "name": "stderr",
     "output_type": "stream",
     "text": [
      "INFO:tensorflow:guid: None\n"
     ]
    },
    {
     "name": "stdout",
     "output_type": "stream",
     "text": [
      "INFO:tensorflow:tokens: [CLS] i have now been a customer of xx ##xx for the past year and have had a number of issues with your loan servicing the xx ##xx time with your company i have been assessed a late fee for a payment that was there before the deadline of the xx ##xx or according to your customer service folks a day or xx ##xx later if the xx ##xx falls on a weekend or holiday regardless i use online banking with xx ##xx xx ##xx xx ##xx for everything and it seems that this company is the only one with difficulty processing ##cre ##dit ##ing payments in a timely fashion last time i was told that the payment was in paper format and that was the delay i paid xx ##xx of the fee that was my xx ##xx late mortgage payment ever in 15 years this time i have contacted b of a and confirmed that all of my payments to xx ##xx mortgage are in electronic format the payment was sent on xx ##xx arrived and was de ##ducted from my account on xx ##xx xx ##xx did not note payment until xx ##xx and then assessed [SEP]\n"
     ]
    },
    {
     "name": "stderr",
     "output_type": "stream",
     "text": [
      "INFO:tensorflow:tokens: [CLS] i have now been a customer of xx ##xx for the past year and have had a number of issues with your loan servicing the xx ##xx time with your company i have been assessed a late fee for a payment that was there before the deadline of the xx ##xx or according to your customer service folks a day or xx ##xx later if the xx ##xx falls on a weekend or holiday regardless i use online banking with xx ##xx xx ##xx xx ##xx for everything and it seems that this company is the only one with difficulty processing ##cre ##dit ##ing payments in a timely fashion last time i was told that the payment was in paper format and that was the delay i paid xx ##xx of the fee that was my xx ##xx late mortgage payment ever in 15 years this time i have contacted b of a and confirmed that all of my payments to xx ##xx mortgage are in electronic format the payment was sent on xx ##xx arrived and was de ##ducted from my account on xx ##xx xx ##xx did not note payment until xx ##xx and then assessed [SEP]\n"
     ]
    },
    {
     "name": "stdout",
     "output_type": "stream",
     "text": [
      "INFO:tensorflow:input_ids: 101 1045 2031 2085 2042 1037 8013 1997 22038 20348 2005 1996 2627 2095 1998 2031 2018 1037 2193 1997 3314 2007 2115 5414 26804 1996 22038 20348 2051 2007 2115 2194 1045 2031 2042 14155 1037 2397 7408 2005 1037 7909 2008 2001 2045 2077 1996 15117 1997 1996 22038 20348 2030 2429 2000 2115 8013 2326 12455 1037 2154 2030 22038 20348 2101 2065 1996 22038 20348 4212 2006 1037 5353 2030 6209 7539 1045 2224 3784 8169 2007 22038 20348 22038 20348 22038 20348 2005 2673 1998 2009 3849 2008 2023 2194 2003 1996 2069 2028 2007 7669 6364 16748 23194 2075 10504 1999 1037 23259 4827 2197 2051 1045 2001 2409 2008 1996 7909 2001 1999 3259 4289 1998 2008 2001 1996 8536 1045 3825 22038 20348 1997 1996 7408 2008 2001 2026 22038 20348 2397 14344 7909 2412 1999 2321 2086 2023 2051 1045 2031 11925 1038 1997 1037 1998 4484 2008 2035 1997 2026 10504 2000 22038 20348 14344 2024 1999 4816 4289 1996 7909 2001 2741 2006 22038 20348 3369 1998 2001 2139 29510 2013 2026 4070 2006 22038 20348 22038 20348 2106 2025 3602 7909 2127 22038 20348 1998 2059 14155 102\n"
     ]
    },
    {
     "name": "stderr",
     "output_type": "stream",
     "text": [
      "INFO:tensorflow:input_ids: 101 1045 2031 2085 2042 1037 8013 1997 22038 20348 2005 1996 2627 2095 1998 2031 2018 1037 2193 1997 3314 2007 2115 5414 26804 1996 22038 20348 2051 2007 2115 2194 1045 2031 2042 14155 1037 2397 7408 2005 1037 7909 2008 2001 2045 2077 1996 15117 1997 1996 22038 20348 2030 2429 2000 2115 8013 2326 12455 1037 2154 2030 22038 20348 2101 2065 1996 22038 20348 4212 2006 1037 5353 2030 6209 7539 1045 2224 3784 8169 2007 22038 20348 22038 20348 22038 20348 2005 2673 1998 2009 3849 2008 2023 2194 2003 1996 2069 2028 2007 7669 6364 16748 23194 2075 10504 1999 1037 23259 4827 2197 2051 1045 2001 2409 2008 1996 7909 2001 1999 3259 4289 1998 2008 2001 1996 8536 1045 3825 22038 20348 1997 1996 7408 2008 2001 2026 22038 20348 2397 14344 7909 2412 1999 2321 2086 2023 2051 1045 2031 11925 1038 1997 1037 1998 4484 2008 2035 1997 2026 10504 2000 22038 20348 14344 2024 1999 4816 4289 1996 7909 2001 2741 2006 22038 20348 3369 1998 2001 2139 29510 2013 2026 4070 2006 22038 20348 22038 20348 2106 2025 3602 7909 2127 22038 20348 1998 2059 14155 102\n"
     ]
    },
    {
     "name": "stdout",
     "output_type": "stream",
     "text": [
      "INFO:tensorflow:input_mask: 1 1 1 1 1 1 1 1 1 1 1 1 1 1 1 1 1 1 1 1 1 1 1 1 1 1 1 1 1 1 1 1 1 1 1 1 1 1 1 1 1 1 1 1 1 1 1 1 1 1 1 1 1 1 1 1 1 1 1 1 1 1 1 1 1 1 1 1 1 1 1 1 1 1 1 1 1 1 1 1 1 1 1 1 1 1 1 1 1 1 1 1 1 1 1 1 1 1 1 1 1 1 1 1 1 1 1 1 1 1 1 1 1 1 1 1 1 1 1 1 1 1 1 1 1 1 1 1 1 1 1 1 1 1 1 1 1 1 1 1 1 1 1 1 1 1 1 1 1 1 1 1 1 1 1 1 1 1 1 1 1 1 1 1 1 1 1 1 1 1 1 1 1 1 1 1 1 1 1 1 1 1 1 1 1 1 1 1 1 1 1 1 1 1 1 1 1 1 1 1\n"
     ]
    },
    {
     "name": "stderr",
     "output_type": "stream",
     "text": [
      "INFO:tensorflow:input_mask: 1 1 1 1 1 1 1 1 1 1 1 1 1 1 1 1 1 1 1 1 1 1 1 1 1 1 1 1 1 1 1 1 1 1 1 1 1 1 1 1 1 1 1 1 1 1 1 1 1 1 1 1 1 1 1 1 1 1 1 1 1 1 1 1 1 1 1 1 1 1 1 1 1 1 1 1 1 1 1 1 1 1 1 1 1 1 1 1 1 1 1 1 1 1 1 1 1 1 1 1 1 1 1 1 1 1 1 1 1 1 1 1 1 1 1 1 1 1 1 1 1 1 1 1 1 1 1 1 1 1 1 1 1 1 1 1 1 1 1 1 1 1 1 1 1 1 1 1 1 1 1 1 1 1 1 1 1 1 1 1 1 1 1 1 1 1 1 1 1 1 1 1 1 1 1 1 1 1 1 1 1 1 1 1 1 1 1 1 1 1 1 1 1 1 1 1 1 1 1 1\n"
     ]
    },
    {
     "name": "stdout",
     "output_type": "stream",
     "text": [
      "INFO:tensorflow:segment_ids: 0 0 0 0 0 0 0 0 0 0 0 0 0 0 0 0 0 0 0 0 0 0 0 0 0 0 0 0 0 0 0 0 0 0 0 0 0 0 0 0 0 0 0 0 0 0 0 0 0 0 0 0 0 0 0 0 0 0 0 0 0 0 0 0 0 0 0 0 0 0 0 0 0 0 0 0 0 0 0 0 0 0 0 0 0 0 0 0 0 0 0 0 0 0 0 0 0 0 0 0 0 0 0 0 0 0 0 0 0 0 0 0 0 0 0 0 0 0 0 0 0 0 0 0 0 0 0 0 0 0 0 0 0 0 0 0 0 0 0 0 0 0 0 0 0 0 0 0 0 0 0 0 0 0 0 0 0 0 0 0 0 0 0 0 0 0 0 0 0 0 0 0 0 0 0 0 0 0 0 0 0 0 0 0 0 0 0 0 0 0 0 0 0 0 0 0 0 0 0 0\n"
     ]
    },
    {
     "name": "stderr",
     "output_type": "stream",
     "text": [
      "INFO:tensorflow:segment_ids: 0 0 0 0 0 0 0 0 0 0 0 0 0 0 0 0 0 0 0 0 0 0 0 0 0 0 0 0 0 0 0 0 0 0 0 0 0 0 0 0 0 0 0 0 0 0 0 0 0 0 0 0 0 0 0 0 0 0 0 0 0 0 0 0 0 0 0 0 0 0 0 0 0 0 0 0 0 0 0 0 0 0 0 0 0 0 0 0 0 0 0 0 0 0 0 0 0 0 0 0 0 0 0 0 0 0 0 0 0 0 0 0 0 0 0 0 0 0 0 0 0 0 0 0 0 0 0 0 0 0 0 0 0 0 0 0 0 0 0 0 0 0 0 0 0 0 0 0 0 0 0 0 0 0 0 0 0 0 0 0 0 0 0 0 0 0 0 0 0 0 0 0 0 0 0 0 0 0 0 0 0 0 0 0 0 0 0 0 0 0 0 0 0 0 0 0 0 0 0 0\n"
     ]
    },
    {
     "name": "stdout",
     "output_type": "stream",
     "text": [
      "INFO:tensorflow:label: 6 (id = 6)\n"
     ]
    },
    {
     "name": "stderr",
     "output_type": "stream",
     "text": [
      "INFO:tensorflow:label: 6 (id = 6)\n"
     ]
    },
    {
     "name": "stdout",
     "output_type": "stream",
     "text": [
      "INFO:tensorflow:*** Example ***\n"
     ]
    },
    {
     "name": "stderr",
     "output_type": "stream",
     "text": [
      "INFO:tensorflow:*** Example ***\n"
     ]
    },
    {
     "name": "stdout",
     "output_type": "stream",
     "text": [
      "INFO:tensorflow:guid: None\n"
     ]
    },
    {
     "name": "stderr",
     "output_type": "stream",
     "text": [
      "INFO:tensorflow:guid: None\n"
     ]
    },
    {
     "name": "stdout",
     "output_type": "stream",
     "text": [
      "INFO:tensorflow:tokens: [CLS] i purchased a bed and financed it for no interest with equal monthly payments through sync ##hr ##ony bank i have been faithful ##ly making my payments each month for about a year and a half last month i rc ##vd a bill that stated that i did not make my xx ##xx payment i thought i had made it but did not give it much thought as i had a death in the family and a lot going on i made an extra payment in xx ##xx to make it up then last night xx ##xx ##xx ##xx ##15 i rc ##vd a call from sync ##hr ##ony bank stating my account was past due so i kept them on the phone and logged into my bill pay account while going over the payment dates with the clerk i saw i did make my xx ##xx payment on xx ##xx xx ##xx she stated that since i made the payment before my statement generated they applied it to the balance and stated i had a late payment and charged me a late fee not sure how but i ended up having xx ##xx in late fees added [SEP]\n"
     ]
    },
    {
     "name": "stderr",
     "output_type": "stream",
     "text": [
      "INFO:tensorflow:tokens: [CLS] i purchased a bed and financed it for no interest with equal monthly payments through sync ##hr ##ony bank i have been faithful ##ly making my payments each month for about a year and a half last month i rc ##vd a bill that stated that i did not make my xx ##xx payment i thought i had made it but did not give it much thought as i had a death in the family and a lot going on i made an extra payment in xx ##xx to make it up then last night xx ##xx ##xx ##xx ##15 i rc ##vd a call from sync ##hr ##ony bank stating my account was past due so i kept them on the phone and logged into my bill pay account while going over the payment dates with the clerk i saw i did make my xx ##xx payment on xx ##xx xx ##xx she stated that since i made the payment before my statement generated they applied it to the balance and stated i had a late payment and charged me a late fee not sure how but i ended up having xx ##xx in late fees added [SEP]\n"
     ]
    },
    {
     "name": "stdout",
     "output_type": "stream",
     "text": [
      "INFO:tensorflow:input_ids: 101 1045 4156 1037 2793 1998 13790 2009 2005 2053 3037 2007 5020 7058 10504 2083 26351 8093 16585 2924 1045 2031 2042 11633 2135 2437 2026 10504 2169 3204 2005 2055 1037 2095 1998 1037 2431 2197 3204 1045 22110 16872 1037 3021 2008 3090 2008 1045 2106 2025 2191 2026 22038 20348 7909 1045 2245 1045 2018 2081 2009 2021 2106 2025 2507 2009 2172 2245 2004 1045 2018 1037 2331 1999 1996 2155 1998 1037 2843 2183 2006 1045 2081 2019 4469 7909 1999 22038 20348 2000 2191 2009 2039 2059 2197 2305 22038 20348 20348 20348 16068 1045 22110 16872 1037 2655 2013 26351 8093 16585 2924 5517 2026 4070 2001 2627 2349 2061 1045 2921 2068 2006 1996 3042 1998 26618 2046 2026 3021 3477 4070 2096 2183 2058 1996 7909 5246 2007 1996 7805 1045 2387 1045 2106 2191 2026 22038 20348 7909 2006 22038 20348 22038 20348 2016 3090 2008 2144 1045 2081 1996 7909 2077 2026 4861 7013 2027 4162 2009 2000 1996 5703 1998 3090 1045 2018 1037 2397 7909 1998 5338 2033 1037 2397 7408 2025 2469 2129 2021 1045 3092 2039 2383 22038 20348 1999 2397 9883 2794 102\n"
     ]
    },
    {
     "name": "stderr",
     "output_type": "stream",
     "text": [
      "INFO:tensorflow:input_ids: 101 1045 4156 1037 2793 1998 13790 2009 2005 2053 3037 2007 5020 7058 10504 2083 26351 8093 16585 2924 1045 2031 2042 11633 2135 2437 2026 10504 2169 3204 2005 2055 1037 2095 1998 1037 2431 2197 3204 1045 22110 16872 1037 3021 2008 3090 2008 1045 2106 2025 2191 2026 22038 20348 7909 1045 2245 1045 2018 2081 2009 2021 2106 2025 2507 2009 2172 2245 2004 1045 2018 1037 2331 1999 1996 2155 1998 1037 2843 2183 2006 1045 2081 2019 4469 7909 1999 22038 20348 2000 2191 2009 2039 2059 2197 2305 22038 20348 20348 20348 16068 1045 22110 16872 1037 2655 2013 26351 8093 16585 2924 5517 2026 4070 2001 2627 2349 2061 1045 2921 2068 2006 1996 3042 1998 26618 2046 2026 3021 3477 4070 2096 2183 2058 1996 7909 5246 2007 1996 7805 1045 2387 1045 2106 2191 2026 22038 20348 7909 2006 22038 20348 22038 20348 2016 3090 2008 2144 1045 2081 1996 7909 2077 2026 4861 7013 2027 4162 2009 2000 1996 5703 1998 3090 1045 2018 1037 2397 7909 1998 5338 2033 1037 2397 7408 2025 2469 2129 2021 1045 3092 2039 2383 22038 20348 1999 2397 9883 2794 102\n"
     ]
    },
    {
     "name": "stdout",
     "output_type": "stream",
     "text": [
      "INFO:tensorflow:input_mask: 1 1 1 1 1 1 1 1 1 1 1 1 1 1 1 1 1 1 1 1 1 1 1 1 1 1 1 1 1 1 1 1 1 1 1 1 1 1 1 1 1 1 1 1 1 1 1 1 1 1 1 1 1 1 1 1 1 1 1 1 1 1 1 1 1 1 1 1 1 1 1 1 1 1 1 1 1 1 1 1 1 1 1 1 1 1 1 1 1 1 1 1 1 1 1 1 1 1 1 1 1 1 1 1 1 1 1 1 1 1 1 1 1 1 1 1 1 1 1 1 1 1 1 1 1 1 1 1 1 1 1 1 1 1 1 1 1 1 1 1 1 1 1 1 1 1 1 1 1 1 1 1 1 1 1 1 1 1 1 1 1 1 1 1 1 1 1 1 1 1 1 1 1 1 1 1 1 1 1 1 1 1 1 1 1 1 1 1 1 1 1 1 1 1 1 1 1 1 1 1\n"
     ]
    },
    {
     "name": "stderr",
     "output_type": "stream",
     "text": [
      "INFO:tensorflow:input_mask: 1 1 1 1 1 1 1 1 1 1 1 1 1 1 1 1 1 1 1 1 1 1 1 1 1 1 1 1 1 1 1 1 1 1 1 1 1 1 1 1 1 1 1 1 1 1 1 1 1 1 1 1 1 1 1 1 1 1 1 1 1 1 1 1 1 1 1 1 1 1 1 1 1 1 1 1 1 1 1 1 1 1 1 1 1 1 1 1 1 1 1 1 1 1 1 1 1 1 1 1 1 1 1 1 1 1 1 1 1 1 1 1 1 1 1 1 1 1 1 1 1 1 1 1 1 1 1 1 1 1 1 1 1 1 1 1 1 1 1 1 1 1 1 1 1 1 1 1 1 1 1 1 1 1 1 1 1 1 1 1 1 1 1 1 1 1 1 1 1 1 1 1 1 1 1 1 1 1 1 1 1 1 1 1 1 1 1 1 1 1 1 1 1 1 1 1 1 1 1 1\n"
     ]
    },
    {
     "name": "stdout",
     "output_type": "stream",
     "text": [
      "INFO:tensorflow:segment_ids: 0 0 0 0 0 0 0 0 0 0 0 0 0 0 0 0 0 0 0 0 0 0 0 0 0 0 0 0 0 0 0 0 0 0 0 0 0 0 0 0 0 0 0 0 0 0 0 0 0 0 0 0 0 0 0 0 0 0 0 0 0 0 0 0 0 0 0 0 0 0 0 0 0 0 0 0 0 0 0 0 0 0 0 0 0 0 0 0 0 0 0 0 0 0 0 0 0 0 0 0 0 0 0 0 0 0 0 0 0 0 0 0 0 0 0 0 0 0 0 0 0 0 0 0 0 0 0 0 0 0 0 0 0 0 0 0 0 0 0 0 0 0 0 0 0 0 0 0 0 0 0 0 0 0 0 0 0 0 0 0 0 0 0 0 0 0 0 0 0 0 0 0 0 0 0 0 0 0 0 0 0 0 0 0 0 0 0 0 0 0 0 0 0 0 0 0 0 0 0 0\n"
     ]
    },
    {
     "name": "stderr",
     "output_type": "stream",
     "text": [
      "INFO:tensorflow:segment_ids: 0 0 0 0 0 0 0 0 0 0 0 0 0 0 0 0 0 0 0 0 0 0 0 0 0 0 0 0 0 0 0 0 0 0 0 0 0 0 0 0 0 0 0 0 0 0 0 0 0 0 0 0 0 0 0 0 0 0 0 0 0 0 0 0 0 0 0 0 0 0 0 0 0 0 0 0 0 0 0 0 0 0 0 0 0 0 0 0 0 0 0 0 0 0 0 0 0 0 0 0 0 0 0 0 0 0 0 0 0 0 0 0 0 0 0 0 0 0 0 0 0 0 0 0 0 0 0 0 0 0 0 0 0 0 0 0 0 0 0 0 0 0 0 0 0 0 0 0 0 0 0 0 0 0 0 0 0 0 0 0 0 0 0 0 0 0 0 0 0 0 0 0 0 0 0 0 0 0 0 0 0 0 0 0 0 0 0 0 0 0 0 0 0 0 0 0 0 0 0 0\n"
     ]
    },
    {
     "name": "stdout",
     "output_type": "stream",
     "text": [
      "INFO:tensorflow:label: 2 (id = 2)\n"
     ]
    },
    {
     "name": "stderr",
     "output_type": "stream",
     "text": [
      "INFO:tensorflow:label: 2 (id = 2)\n"
     ]
    },
    {
     "name": "stdout",
     "output_type": "stream",
     "text": [
      "INFO:tensorflow:*** Example ***\n"
     ]
    },
    {
     "name": "stderr",
     "output_type": "stream",
     "text": [
      "INFO:tensorflow:*** Example ***\n"
     ]
    },
    {
     "name": "stdout",
     "output_type": "stream",
     "text": [
      "INFO:tensorflow:guid: None\n"
     ]
    },
    {
     "name": "stderr",
     "output_type": "stream",
     "text": [
      "INFO:tensorflow:guid: None\n"
     ]
    },
    {
     "name": "stdout",
     "output_type": "stream",
     "text": [
      "INFO:tensorflow:tokens: [CLS] i would like to submit a complaint against bank of the west for how they process checking account transactions i had a de ##bit card transaction of xx ##xx that was pending over a weekend my account at that time had the funds then on monday an individual cash ##ed a check that i gave them in the amount of xx ##xx on monday night there was a xx ##xx in my account plus a deposit i made at an atm machine in amount of xx ##xx but was nt until after business hours on tuesday the bank charges me xx ##xx over ##dra ##ft fees they processed the check first which was the higher amount which put me at a negative balance then processed the de ##bit transaction after that causing xx ##xx over draft my complaint is the de ##bit card was sitting on pending way before a check was even processed but yet the higher amount transaction got processed first when i asked my bank they told me that they determine which is more important and process that first i asked them how they determine which one is more important and i was told by [SEP]\n"
     ]
    },
    {
     "name": "stderr",
     "output_type": "stream",
     "text": [
      "INFO:tensorflow:tokens: [CLS] i would like to submit a complaint against bank of the west for how they process checking account transactions i had a de ##bit card transaction of xx ##xx that was pending over a weekend my account at that time had the funds then on monday an individual cash ##ed a check that i gave them in the amount of xx ##xx on monday night there was a xx ##xx in my account plus a deposit i made at an atm machine in amount of xx ##xx but was nt until after business hours on tuesday the bank charges me xx ##xx over ##dra ##ft fees they processed the check first which was the higher amount which put me at a negative balance then processed the de ##bit transaction after that causing xx ##xx over draft my complaint is the de ##bit card was sitting on pending way before a check was even processed but yet the higher amount transaction got processed first when i asked my bank they told me that they determine which is more important and process that first i asked them how they determine which one is more important and i was told by [SEP]\n"
     ]
    },
    {
     "name": "stdout",
     "output_type": "stream",
     "text": [
      "INFO:tensorflow:input_ids: 101 1045 2052 2066 2000 12040 1037 12087 2114 2924 1997 1996 2225 2005 2129 2027 2832 9361 4070 11817 1045 2018 1037 2139 16313 4003 12598 1997 22038 20348 2008 2001 14223 2058 1037 5353 2026 4070 2012 2008 2051 2018 1996 5029 2059 2006 6928 2019 3265 5356 2098 1037 4638 2008 1045 2435 2068 1999 1996 3815 1997 22038 20348 2006 6928 2305 2045 2001 1037 22038 20348 1999 2026 4070 4606 1037 12816 1045 2081 2012 2019 27218 3698 1999 3815 1997 22038 20348 2021 2001 23961 2127 2044 2449 2847 2006 9857 1996 2924 5571 2033 22038 20348 2058 7265 6199 9883 2027 13995 1996 4638 2034 2029 2001 1996 3020 3815 2029 2404 2033 2012 1037 4997 5703 2059 13995 1996 2139 16313 12598 2044 2008 4786 22038 20348 2058 4433 2026 12087 2003 1996 2139 16313 4003 2001 3564 2006 14223 2126 2077 1037 4638 2001 2130 13995 2021 2664 1996 3020 3815 12598 2288 13995 2034 2043 1045 2356 2026 2924 2027 2409 2033 2008 2027 5646 2029 2003 2062 2590 1998 2832 2008 2034 1045 2356 2068 2129 2027 5646 2029 2028 2003 2062 2590 1998 1045 2001 2409 2011 102\n"
     ]
    },
    {
     "name": "stderr",
     "output_type": "stream",
     "text": [
      "INFO:tensorflow:input_ids: 101 1045 2052 2066 2000 12040 1037 12087 2114 2924 1997 1996 2225 2005 2129 2027 2832 9361 4070 11817 1045 2018 1037 2139 16313 4003 12598 1997 22038 20348 2008 2001 14223 2058 1037 5353 2026 4070 2012 2008 2051 2018 1996 5029 2059 2006 6928 2019 3265 5356 2098 1037 4638 2008 1045 2435 2068 1999 1996 3815 1997 22038 20348 2006 6928 2305 2045 2001 1037 22038 20348 1999 2026 4070 4606 1037 12816 1045 2081 2012 2019 27218 3698 1999 3815 1997 22038 20348 2021 2001 23961 2127 2044 2449 2847 2006 9857 1996 2924 5571 2033 22038 20348 2058 7265 6199 9883 2027 13995 1996 4638 2034 2029 2001 1996 3020 3815 2029 2404 2033 2012 1037 4997 5703 2059 13995 1996 2139 16313 12598 2044 2008 4786 22038 20348 2058 4433 2026 12087 2003 1996 2139 16313 4003 2001 3564 2006 14223 2126 2077 1037 4638 2001 2130 13995 2021 2664 1996 3020 3815 12598 2288 13995 2034 2043 1045 2356 2026 2924 2027 2409 2033 2008 2027 5646 2029 2003 2062 2590 1998 2832 2008 2034 1045 2356 2068 2129 2027 5646 2029 2028 2003 2062 2590 1998 1045 2001 2409 2011 102\n"
     ]
    },
    {
     "name": "stdout",
     "output_type": "stream",
     "text": [
      "INFO:tensorflow:input_mask: 1 1 1 1 1 1 1 1 1 1 1 1 1 1 1 1 1 1 1 1 1 1 1 1 1 1 1 1 1 1 1 1 1 1 1 1 1 1 1 1 1 1 1 1 1 1 1 1 1 1 1 1 1 1 1 1 1 1 1 1 1 1 1 1 1 1 1 1 1 1 1 1 1 1 1 1 1 1 1 1 1 1 1 1 1 1 1 1 1 1 1 1 1 1 1 1 1 1 1 1 1 1 1 1 1 1 1 1 1 1 1 1 1 1 1 1 1 1 1 1 1 1 1 1 1 1 1 1 1 1 1 1 1 1 1 1 1 1 1 1 1 1 1 1 1 1 1 1 1 1 1 1 1 1 1 1 1 1 1 1 1 1 1 1 1 1 1 1 1 1 1 1 1 1 1 1 1 1 1 1 1 1 1 1 1 1 1 1 1 1 1 1 1 1 1 1 1 1 1 1\n"
     ]
    },
    {
     "name": "stderr",
     "output_type": "stream",
     "text": [
      "INFO:tensorflow:input_mask: 1 1 1 1 1 1 1 1 1 1 1 1 1 1 1 1 1 1 1 1 1 1 1 1 1 1 1 1 1 1 1 1 1 1 1 1 1 1 1 1 1 1 1 1 1 1 1 1 1 1 1 1 1 1 1 1 1 1 1 1 1 1 1 1 1 1 1 1 1 1 1 1 1 1 1 1 1 1 1 1 1 1 1 1 1 1 1 1 1 1 1 1 1 1 1 1 1 1 1 1 1 1 1 1 1 1 1 1 1 1 1 1 1 1 1 1 1 1 1 1 1 1 1 1 1 1 1 1 1 1 1 1 1 1 1 1 1 1 1 1 1 1 1 1 1 1 1 1 1 1 1 1 1 1 1 1 1 1 1 1 1 1 1 1 1 1 1 1 1 1 1 1 1 1 1 1 1 1 1 1 1 1 1 1 1 1 1 1 1 1 1 1 1 1 1 1 1 1 1 1\n"
     ]
    },
    {
     "name": "stdout",
     "output_type": "stream",
     "text": [
      "INFO:tensorflow:segment_ids: 0 0 0 0 0 0 0 0 0 0 0 0 0 0 0 0 0 0 0 0 0 0 0 0 0 0 0 0 0 0 0 0 0 0 0 0 0 0 0 0 0 0 0 0 0 0 0 0 0 0 0 0 0 0 0 0 0 0 0 0 0 0 0 0 0 0 0 0 0 0 0 0 0 0 0 0 0 0 0 0 0 0 0 0 0 0 0 0 0 0 0 0 0 0 0 0 0 0 0 0 0 0 0 0 0 0 0 0 0 0 0 0 0 0 0 0 0 0 0 0 0 0 0 0 0 0 0 0 0 0 0 0 0 0 0 0 0 0 0 0 0 0 0 0 0 0 0 0 0 0 0 0 0 0 0 0 0 0 0 0 0 0 0 0 0 0 0 0 0 0 0 0 0 0 0 0 0 0 0 0 0 0 0 0 0 0 0 0 0 0 0 0 0 0 0 0 0 0 0 0\n"
     ]
    },
    {
     "name": "stderr",
     "output_type": "stream",
     "text": [
      "INFO:tensorflow:segment_ids: 0 0 0 0 0 0 0 0 0 0 0 0 0 0 0 0 0 0 0 0 0 0 0 0 0 0 0 0 0 0 0 0 0 0 0 0 0 0 0 0 0 0 0 0 0 0 0 0 0 0 0 0 0 0 0 0 0 0 0 0 0 0 0 0 0 0 0 0 0 0 0 0 0 0 0 0 0 0 0 0 0 0 0 0 0 0 0 0 0 0 0 0 0 0 0 0 0 0 0 0 0 0 0 0 0 0 0 0 0 0 0 0 0 0 0 0 0 0 0 0 0 0 0 0 0 0 0 0 0 0 0 0 0 0 0 0 0 0 0 0 0 0 0 0 0 0 0 0 0 0 0 0 0 0 0 0 0 0 0 0 0 0 0 0 0 0 0 0 0 0 0 0 0 0 0 0 0 0 0 0 0 0 0 0 0 0 0 0 0 0 0 0 0 0 0 0 0 0 0 0\n"
     ]
    },
    {
     "name": "stdout",
     "output_type": "stream",
     "text": [
      "INFO:tensorflow:label: 0 (id = 0)\n"
     ]
    },
    {
     "name": "stderr",
     "output_type": "stream",
     "text": [
      "INFO:tensorflow:label: 0 (id = 0)\n"
     ]
    },
    {
     "name": "stdout",
     "output_type": "stream",
     "text": [
      "Wall time: 4min 16s\n"
     ]
    }
   ],
   "source": [
    "%%time\n",
    "\n",
    "# We'll set sequences to be at most 128 tokens long.\n",
    "MAX_SEQ_LENGTH = 200\n",
    "\n",
    "# Convert our train and validation features to InputFeatures that BERT understands.\n",
    "train_features = bert.run_classifier.convert_examples_to_features(train_InputExamples, label_list, MAX_SEQ_LENGTH, tokenizer)\n",
    "\n",
    "val_features = bert.run_classifier.convert_examples_to_features(val_InputExamples, label_list, MAX_SEQ_LENGTH, tokenizer)"
   ]
  },
  {
   "cell_type": "code",
   "execution_count": 34,
   "metadata": {},
   "outputs": [
    {
     "name": "stdout",
     "output_type": "stream",
     "text": [
      "Sentence :  On XXXX XXXX 2015 I applied for a checking account with Citibank online Not sure if I did it right so I applied again on the phone and again on the XXXX online On XXXX XXXX 2015 I received several letters from Citibank XXXX of which contained a bank card in each Great I had the account I went to a Citibank Atm and deposited 2000 which is still in the account at the time this complaint is being filed I tried to use my bank card and it was declined twice Once I got home I called customer service who told me there was a restriction on the account and I needed to call new account services I was also informed that I had XXXX accounts I told them I only wanted XXXX and gave them the account number of the one in which to keep the one with the 2000 So just to be exact I am writing this complaint pertaining to the account ending in XXXX On Monday XXXX XXXX 2015 I called new account services where I was informed that I needed to send in proof of address I was told that a cell phone bill would do and I promptly sent a copy of my phone bill to them I faxed it to the number  XXXX  I received from the agent I called the next day which was XXXX XXXX 2015 to verify that new account services received my fax they did Later that day I received a call from a number I did not recognize XXXX The gentleman on the line explained that he was calling on behalf of Citibank and he was the XXXX reviewing my proof of address I sent in and he thought to check with me because my XXXX bill had an apartment number and I did not put one on my bank application I explained to him that it did not matter because I stayed in a hotel and all mail came through the front desk so I would get it as long as it came to this address the same one that I gave them on my XXXX bill as my proof of address He asked if this address is permanent I assured him it was He then explained to me that he would have to talk to his supervisor as they usually do nt give accounts to people in hotels He said he would call me back after he spoke with his supervisor either later that day or the next The next day I waited I did not receive a call so I called new account services They explained to me that the account was denied by XXXX and I will be receiving a letter soon I feel as though I have been a victim of discrimination again Where I live should not play a part in whether I get an account I gave all my documents as asked of me I already had the account they sent me a card so the only reason for them declining or closing my newly opened account has to do with the address where I live I am not sure of the reason they put in the letter or the reason they will give your organization but I feel that it should be known that I have the card and even placed money in the account The reason for them closing the account has to do with the fact that my address where I am a permanent resident is a hotel I do nt think that people who live in hotels or shelters or any residence that Citibank does not agree with should be a reason that a person is denied an account \n",
      "------------------------------\n",
      "Tokens :  ['on', 'xx', '##xx', 'xx', '##xx', '2015', 'i', 'applied', 'for', 'a', 'checking', 'account', 'with', 'ci', '##ti', '##bank', 'online', 'not', 'sure', 'if', 'i', 'did', 'it', 'right', 'so', 'i', 'applied', 'again', 'on', 'the', 'phone', 'and', 'again', 'on', 'the', 'xx', '##xx', 'online', 'on', 'xx', '##xx', 'xx', '##xx', '2015', 'i', 'received', 'several', 'letters', 'from', 'ci', '##ti', '##bank', 'xx', '##xx', 'of', 'which', 'contained', 'a', 'bank', 'card', 'in', 'each', 'great', 'i', 'had', 'the', 'account', 'i', 'went', 'to', 'a', 'ci', '##ti', '##bank', 'atm', 'and', 'deposited', '2000', 'which', 'is', 'still', 'in', 'the', 'account', 'at', 'the', 'time', 'this', 'complaint', 'is', 'being', 'filed', 'i', 'tried', 'to', 'use', 'my', 'bank', 'card', 'and', 'it', 'was', 'declined', 'twice', 'once', 'i', 'got', 'home', 'i', 'called', 'customer', 'service', 'who', 'told', 'me', 'there', 'was', 'a', 'restriction', 'on', 'the', 'account', 'and', 'i', 'needed', 'to', 'call', 'new', 'account', 'services', 'i', 'was', 'also', 'informed', 'that', 'i', 'had', 'xx', '##xx', 'accounts', 'i', 'told', 'them', 'i', 'only', 'wanted', 'xx', '##xx', 'and', 'gave', 'them', 'the', 'account', 'number', 'of', 'the', 'one', 'in', 'which', 'to', 'keep', 'the', 'one', 'with', 'the', '2000', 'so', 'just', 'to', 'be', 'exact', 'i', 'am', 'writing', 'this', 'complaint', 'pertaining', 'to', 'the', 'account', 'ending', 'in', 'xx', '##xx', 'on', 'monday', 'xx', '##xx', 'xx', '##xx', '2015', 'i', 'called', 'new', 'account', 'services', 'where', 'i', 'was', 'informed', 'that', 'i', 'needed', 'to', 'send', 'in', 'proof', 'of', 'address', 'i', 'was', 'told', 'that', 'a', 'cell', 'phone', 'bill', 'would', 'do', 'and', 'i', 'promptly', 'sent', 'a', 'copy', 'of', 'my', 'phone', 'bill', 'to', 'them', 'i', 'fa', '##xed', 'it', 'to', 'the', 'number', 'xx', '##xx', 'i', 'received', 'from', 'the', 'agent', 'i', 'called', 'the', 'next', 'day', 'which', 'was', 'xx', '##xx', 'xx', '##xx', '2015', 'to', 'verify', 'that', 'new', 'account', 'services', 'received', 'my', 'fa', '##x', 'they', 'did', 'later', 'that', 'day', 'i', 'received', 'a', 'call', 'from', 'a', 'number', 'i', 'did', 'not', 'recognize', 'xx', '##xx', 'the', 'gentleman', 'on', 'the', 'line', 'explained', 'that', 'he', 'was', 'calling', 'on', 'behalf', 'of', 'ci', '##ti', '##bank', 'and', 'he', 'was', 'the', 'xx', '##xx', 'reviewing', 'my', 'proof', 'of', 'address', 'i', 'sent', 'in', 'and', 'he', 'thought', 'to', 'check', 'with', 'me', 'because', 'my', 'xx', '##xx', 'bill', 'had', 'an', 'apartment', 'number', 'and', 'i', 'did', 'not', 'put', 'one', 'on', 'my', 'bank', 'application', 'i', 'explained', 'to', 'him', 'that', 'it', 'did', 'not', 'matter', 'because', 'i', 'stayed', 'in', 'a', 'hotel', 'and', 'all', 'mail', 'came', 'through', 'the', 'front', 'desk', 'so', 'i', 'would', 'get', 'it', 'as', 'long', 'as', 'it', 'came', 'to', 'this', 'address', 'the', 'same', 'one', 'that', 'i', 'gave', 'them', 'on', 'my', 'xx', '##xx', 'bill', 'as', 'my', 'proof', 'of', 'address', 'he', 'asked', 'if', 'this', 'address', 'is', 'permanent', 'i', 'assured', 'him', 'it', 'was', 'he', 'then', 'explained', 'to', 'me', 'that', 'he', 'would', 'have', 'to', 'talk', 'to', 'his', 'supervisor', 'as', 'they', 'usually', 'do', 'nt', 'give', 'accounts', 'to', 'people', 'in', 'hotels', 'he', 'said', 'he', 'would', 'call', 'me', 'back', 'after', 'he', 'spoke', 'with', 'his', 'supervisor', 'either', 'later', 'that', 'day', 'or', 'the', 'next', 'the', 'next', 'day', 'i', 'waited', 'i', 'did', 'not', 'receive', 'a', 'call', 'so', 'i', 'called', 'new', 'account', 'services', 'they', 'explained', 'to', 'me', 'that', 'the', 'account', 'was', 'denied', 'by', 'xx', '##xx', 'and', 'i', 'will', 'be', 'receiving', 'a', 'letter', 'soon', 'i', 'feel', 'as', 'though', 'i', 'have', 'been', 'a', 'victim', 'of', 'discrimination', 'again', 'where', 'i', 'live', 'should', 'not', 'play', 'a', 'part', 'in', 'whether', 'i', 'get', 'an', 'account', 'i', 'gave', 'all', 'my', 'documents', 'as', 'asked', 'of', 'me', 'i', 'already', 'had', 'the', 'account', 'they', 'sent', 'me', 'a', 'card', 'so', 'the', 'only', 'reason', 'for', 'them', 'declining', 'or', 'closing', 'my', 'newly', 'opened', 'account', 'has', 'to', 'do', 'with', 'the', 'address', 'where', 'i', 'live', 'i', 'am', 'not', 'sure', 'of', 'the', 'reason', 'they', 'put', 'in', 'the', 'letter', 'or', 'the', 'reason', 'they', 'will', 'give', 'your', 'organization', 'but', 'i', 'feel', 'that', 'it', 'should', 'be', 'known', 'that', 'i', 'have', 'the', 'card', 'and', 'even', 'placed', 'money', 'in', 'the', 'account', 'the', 'reason', 'for', 'them', 'closing', 'the', 'account', 'has', 'to', 'do', 'with', 'the', 'fact', 'that', 'my', 'address', 'where', 'i', 'am', 'a', 'permanent', 'resident', 'is', 'a', 'hotel', 'i', 'do', 'nt', 'think', 'that', 'people', 'who', 'live', 'in', 'hotels', 'or', 'shelters', 'or', 'any', 'residence', 'that', 'ci', '##ti', '##bank', 'does', 'not', 'agree', 'with', 'should', 'be', 'a', 'reason', 'that', 'a', 'person', 'is', 'denied', 'an', 'account']\n",
      "------------------------------\n",
      "Input IDs :  [101, 2006, 22038, 20348, 22038, 20348, 2325, 1045, 4162, 2005, 1037, 9361, 4070, 2007, 25022, 3775, 9299, 3784, 2025, 2469, 2065, 1045, 2106, 2009, 2157, 2061, 1045, 4162, 2153, 2006, 1996, 3042, 1998, 2153, 2006, 1996, 22038, 20348, 3784, 2006, 22038, 20348, 22038, 20348, 2325, 1045, 2363, 2195, 4144, 2013, 25022, 3775, 9299, 22038, 20348, 1997, 2029, 4838, 1037, 2924, 4003, 1999, 2169, 2307, 1045, 2018, 1996, 4070, 1045, 2253, 2000, 1037, 25022, 3775, 9299, 27218, 1998, 14140, 2456, 2029, 2003, 2145, 1999, 1996, 4070, 2012, 1996, 2051, 2023, 12087, 2003, 2108, 6406, 1045, 2699, 2000, 2224, 2026, 2924, 4003, 1998, 2009, 2001, 6430, 3807, 2320, 1045, 2288, 2188, 1045, 2170, 8013, 2326, 2040, 2409, 2033, 2045, 2001, 1037, 16840, 2006, 1996, 4070, 1998, 1045, 2734, 2000, 2655, 2047, 4070, 2578, 1045, 2001, 2036, 6727, 2008, 1045, 2018, 22038, 20348, 6115, 1045, 2409, 2068, 1045, 2069, 2359, 22038, 20348, 1998, 2435, 2068, 1996, 4070, 2193, 1997, 1996, 2028, 1999, 2029, 2000, 2562, 1996, 2028, 2007, 1996, 2456, 2061, 2074, 2000, 2022, 6635, 1045, 2572, 3015, 2023, 12087, 20246, 2000, 1996, 4070, 4566, 1999, 22038, 20348, 2006, 6928, 22038, 20348, 22038, 20348, 2325, 1045, 2170, 2047, 4070, 2578, 2073, 1045, 102]\n",
      "------------------------------\n",
      "Input Masks :  [1, 1, 1, 1, 1, 1, 1, 1, 1, 1, 1, 1, 1, 1, 1, 1, 1, 1, 1, 1, 1, 1, 1, 1, 1, 1, 1, 1, 1, 1, 1, 1, 1, 1, 1, 1, 1, 1, 1, 1, 1, 1, 1, 1, 1, 1, 1, 1, 1, 1, 1, 1, 1, 1, 1, 1, 1, 1, 1, 1, 1, 1, 1, 1, 1, 1, 1, 1, 1, 1, 1, 1, 1, 1, 1, 1, 1, 1, 1, 1, 1, 1, 1, 1, 1, 1, 1, 1, 1, 1, 1, 1, 1, 1, 1, 1, 1, 1, 1, 1, 1, 1, 1, 1, 1, 1, 1, 1, 1, 1, 1, 1, 1, 1, 1, 1, 1, 1, 1, 1, 1, 1, 1, 1, 1, 1, 1, 1, 1, 1, 1, 1, 1, 1, 1, 1, 1, 1, 1, 1, 1, 1, 1, 1, 1, 1, 1, 1, 1, 1, 1, 1, 1, 1, 1, 1, 1, 1, 1, 1, 1, 1, 1, 1, 1, 1, 1, 1, 1, 1, 1, 1, 1, 1, 1, 1, 1, 1, 1, 1, 1, 1, 1, 1, 1, 1, 1, 1, 1, 1, 1, 1, 1, 1, 1, 1, 1, 1, 1, 1]\n",
      "------------------------------\n",
      "Segment IDs :  [0, 0, 0, 0, 0, 0, 0, 0, 0, 0, 0, 0, 0, 0, 0, 0, 0, 0, 0, 0, 0, 0, 0, 0, 0, 0, 0, 0, 0, 0, 0, 0, 0, 0, 0, 0, 0, 0, 0, 0, 0, 0, 0, 0, 0, 0, 0, 0, 0, 0, 0, 0, 0, 0, 0, 0, 0, 0, 0, 0, 0, 0, 0, 0, 0, 0, 0, 0, 0, 0, 0, 0, 0, 0, 0, 0, 0, 0, 0, 0, 0, 0, 0, 0, 0, 0, 0, 0, 0, 0, 0, 0, 0, 0, 0, 0, 0, 0, 0, 0, 0, 0, 0, 0, 0, 0, 0, 0, 0, 0, 0, 0, 0, 0, 0, 0, 0, 0, 0, 0, 0, 0, 0, 0, 0, 0, 0, 0, 0, 0, 0, 0, 0, 0, 0, 0, 0, 0, 0, 0, 0, 0, 0, 0, 0, 0, 0, 0, 0, 0, 0, 0, 0, 0, 0, 0, 0, 0, 0, 0, 0, 0, 0, 0, 0, 0, 0, 0, 0, 0, 0, 0, 0, 0, 0, 0, 0, 0, 0, 0, 0, 0, 0, 0, 0, 0, 0, 0, 0, 0, 0, 0, 0, 0, 0, 0, 0, 0, 0, 0]\n"
     ]
    }
   ],
   "source": [
    "#Example on first observation in the training set\n",
    "print(\"Sentence : \", train_InputExamples.iloc[0].text_a)\n",
    "print(\"-\"*30)\n",
    "print(\"Tokens : \", tokenizer.tokenize(train_InputExamples.iloc[0].text_a))\n",
    "print(\"-\"*30)\n",
    "print(\"Input IDs : \", train_features[0].input_ids)\n",
    "print(\"-\"*30)\n",
    "print(\"Input Masks : \", train_features[0].input_mask)\n",
    "print(\"-\"*30)\n",
    "print(\"Segment IDs : \", train_features[0].segment_ids)"
   ]
  }
 ],
 "metadata": {
  "kernelspec": {
   "display_name": "Python 3",
   "language": "python",
   "name": "python3"
  },
  "language_info": {
   "codemirror_mode": {
    "name": "ipython",
    "version": 3
   },
   "file_extension": ".py",
   "mimetype": "text/x-python",
   "name": "python",
   "nbconvert_exporter": "python",
   "pygments_lexer": "ipython3",
   "version": "3.6.12"
  }
 },
 "nbformat": 4,
 "nbformat_minor": 4
}
